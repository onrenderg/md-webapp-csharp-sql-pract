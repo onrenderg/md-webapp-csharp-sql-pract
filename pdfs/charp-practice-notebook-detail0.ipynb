{
  "cells": [
    {
      "cell_type": "markdown",
      "metadata": {},
      "source": [
        "# C# Practice Notebook - Complete Tutorial\n",
        "\n",
        "This notebook contains comprehensive C# practice exercises with descriptions and pre-written solutions.\n",
        "Based on the C# 101 tutorial content.\n",
        "\n",
        "## Table of Contents\n",
        "1. Hello World & Basic Output\n",
        "2. Data Types (Integer, Double, Boolean, String)\n",
        "3. Variables and Operators\n",
        "4. Enumerations\n",
        "5. Control Flow (If/Else, Switch)\n",
        "6. Loops (While, For)\n",
        "7. Arrays and Collections\n",
        "8. Classes and Objects\n",
        "\n",
        "---"
      ]
    },
    {
      "cell_type": "markdown",
      "metadata": {},
      "source": [
        "## 1. Hello World & Basic Output\n",
        "\n",
        "**Practice Description:**\n",
        "Learn to output text to the console using `Console.Write()` and `Console.WriteLine()` methods.\n",
        "This is the foundation of C# programming - displaying information to users."
      ]
    },
    {
      "cell_type": "code",
      "execution_count": null,
      "metadata": {
        "dotnet_interactive": {
          "language": "csharp"
        }
      },
      "outputs": [],
      "source": [
        "// Basic Hello World program\n",
        "Console.WriteLine(\"Hello World!\");\n",
        "Console.WriteLine(\"Welcome to C# Programming!\");\n",
        "\n",
        "// Using Console.Write (no new line)\n",
        "Console.Write(\"This is \");\n",
        "Console.Write(\"on the same line.\");\n",
        "Console.WriteLine(); // Add a new line"
      ]
    },
    {
      "cell_type": "markdown",
      "metadata": {},
      "source": [
        "## 2. Data Types - Integer\n",
        "\n",
        "**Practice Description:**\n",
        "Work with whole numbers using the Int32 data type. Learn to declare integer variables,\n",
        "assign values, and display them."
      ]
    },
    {
      "cell_type": "code",
      "execution_count": null,
      "metadata": {
        "dotnet_interactive": {
          "language": "csharp"
        }
      },
      "outputs": [],
      "source": [
        "// Integer data type examples\n",
        "Int32 num = 30;\n",
        "Console.WriteLine(\"Integer value: \" + num);\n",
        "\n",
        "// Different ways to declare integers\n",
        "int age = 25;\n",
        "int year = 2024;\n",
        "int result = age + 5;\n",
        "\n",
        "Console.WriteLine($\"Age: {age}\");\n",
        "Console.WriteLine($\"Year: {year}\");\n",
        "Console.WriteLine($\"Age in 5 years: {result}\");"
      ]
    },
    {
      "cell_type": "markdown",
      "metadata": {},
      "source": [
        "## 3. Data Types - Double\n",
        "\n",
        "**Practice Description:**\n",
        "Work with decimal numbers using the double data type. Learn precision and decimal calculations."
      ]
    },
    {
      "cell_type": "code",
      "execution_count": null,
      "metadata": {
        "dotnet_interactive": {
          "language": "csharp"
        }
      },
      "outputs": [],
      "source": [
        "// Double data type examples\n",
        "double num = 30.33;\n",
        "Console.WriteLine(\"Double value: \" + num);\n",
        "\n",
        "// Mathematical operations with doubles\n",
        "double price = 19.99;\n",
        "double tax = 0.08;\n",
        "double total = price + (price * tax);\n",
        "\n",
        "Console.WriteLine($\"Price: ${price}\");\n",
        "Console.WriteLine($\"Tax rate: {tax * 100}%\");\n",
        "Console.WriteLine($\"Total: ${total:F2}\");"
      ]
    },
    {
      "cell_type": "markdown",
      "metadata": {},
      "source": [
        "## 4. Data Types - Boolean\n",
        "\n",
        "**Practice Description:**\n",
        "Work with true/false values using boolean data type. Essential for conditional logic."
      ]
    },
    {
      "cell_type": "code",
      "execution_count": null,
      "metadata": {
        "dotnet_interactive": {
          "language": "csharp"
        }
      },
      "outputs": [],
      "source": [
        "// Boolean data type examples\n",
        "Boolean status = true;\n",
        "Console.WriteLine(\"Status: \" + status);\n",
        "\n",
        "// Boolean operations\n",
        "bool isStudent = true;\n",
        "bool hasDiscount = false;\n",
        "bool canGetStudentPrice = isStudent && hasDiscount;\n",
        "\n",
        "Console.WriteLine($\"Is student: {isStudent}\");\n",
        "Console.WriteLine($\"Has discount: {hasDiscount}\");\n",
        "Console.WriteLine($\"Can get student price: {canGetStudentPrice}\");"
      ]
    },
    {
      "cell_type": "markdown",
      "metadata": {},
      "source": [
        "## 5. Data Types - String\n",
        "\n",
        "**Practice Description:**\n",
        "Work with text data using string data type. Learn string manipulation and formatting."
      ]
    },
    {
      "cell_type": "code",
      "execution_count": null,
      "metadata": {
        "dotnet_interactive": {
          "language": "csharp"
        }
      },
      "outputs": [],
      "source": [
        "// String data type examples\n",
        "String message = \"Hello\";\n",
        "Console.WriteLine(\"Message: \" + message);\n",
        "\n",
        "// String operations\n",
        "string firstName = \"John\";\n",
        "string lastName = \"Doe\";\n",
        "string fullName = firstName + \" \" + lastName;\n",
        "\n",
        "Console.WriteLine($\"First Name: {firstName}\");\n",
        "Console.WriteLine($\"Last Name: {lastName}\");\n",
        "Console.WriteLine($\"Full Name: {fullName}\");\n",
        "Console.WriteLine($\"Name Length: {fullName.Length} characters\");"
      ]
    },
    {
      "cell_type": "markdown",
      "metadata": {},
      "source": [
        "## 6. Enumerations\n",
        "\n",
        "**Practice Description:**\n",
        "Create and use enumerations to define constant sets of values like days of the week."
      ]
    },
    {
      "cell_type": "code",
      "execution_count": null,
      "metadata": {
        "dotnet_interactive": {
          "language": "csharp"
        }
      },
      "outputs": [],
      "source": [
        "// Enumeration examples\n",
        "enum Days { Sun, Mon, Tue, Wed, Thu, Fri, Sat };\n",
        "enum Priority { Low, Medium, High };\n",
        "\n",
        "// Using enumerations\n",
        "Days today = Days.Mon;\n",
        "Priority taskPriority = Priority.High;\n",
        "\n",
        "Console.WriteLine($\"Today is: {today}\");\n",
        "Console.WriteLine($\"Task priority: {taskPriority}\");\n",
        "\n",
        "// Enum with underlying values\n",
        "Console.WriteLine($\"Monday is day number: {(int)Days.Mon}\");\n",
        "Console.WriteLine($\"High priority value: {(int)Priority.High}\");"
      ]
    },
    {
      "cell_type": "markdown",
      "metadata": {},
      "source": [
        "## 7. Control Flow - If Statement\n",
        "\n",
        "**Practice Description:**\n",
        "Learn conditional execution using if/else statements to make decisions in your code."
      ]
    },
    {
      "cell_type": "code",
      "execution_count": null,
      "metadata": {
        "dotnet_interactive": {
          "language": "csharp"
        }
      },
      "outputs": [],
      "source": [
        "// If statement examples\n",
        "Int32 value = 11;\n",
        "\n",
        "if (value < 10)\n",
        "{\n",
        "    Console.WriteLine(\"Value is less than 10\");\n",
        "}\n",
        "else\n",
        "{\n",
        "    Console.WriteLine(\"Value is greater than or equal to 10\");\n",
        "}\n",
        "\n",
        "// Multiple conditions\n",
        "int score = 85;\n",
        "\n",
        "if (score >= 90)\n",
        "{\n",
        "    Console.WriteLine(\"Grade: A\");\n",
        "}\n",
        "else if (score >= 80)\n",
        "{\n",
        "    Console.WriteLine(\"Grade: B\");\n",
        "}\n",
        "else if (score >= 70)\n",
        "{\n",
        "    Console.WriteLine(\"Grade: C\");\n",
        "}\n",
        "else\n",
        "{\n",
        "    Console.WriteLine(\"Grade: F\");\n",
        "}"
      ]
    },
    {
      "cell_type": "markdown",
      "metadata": {},
      "source": [
        "## 8. Control Flow - Switch Statement\n",
        "\n",
        "**Practice Description:**\n",
        "Use switch statements for multiple condition checking - cleaner than multiple if statements."
      ]
    },
    {
      "cell_type": "code",
      "execution_count": null,
      "metadata": {
        "dotnet_interactive": {
          "language": "csharp"
        }
      },
      "outputs": [],
      "source": [
        "// Switch statement examples\n",
        "Int32 dayNumber = 3;\n",
        "\n",
        "switch (dayNumber)\n",
        "{\n",
        "    case 1:\n",
        "        Console.WriteLine(\"Monday\");\n",
        "        break;\n",
        "    case 2:\n",
        "        Console.WriteLine(\"Tuesday\");\n",
        "        break;\n",
        "    case 3:\n",
        "        Console.WriteLine(\"Wednesday\");\n",
        "        break;\n",
        "    case 4:\n",
        "        Console.WriteLine(\"Thursday\");\n",
        "        break;\n",
        "    case 5:\n",
        "        Console.WriteLine(\"Friday\");\n",
        "        break;\n",
        "    default:\n",
        "        Console.WriteLine(\"Weekend or invalid day\");\n",
        "        break;\n",
        "}\n",
        "\n",
        "// Switch with enum\n",
        "Days currentDay = Days.Fri;\n",
        "switch (currentDay)\n",
        "{\n",
        "    case Days.Mon:\n",
        "    case Days.Tue:\n",
        "    case Days.Wed:\n",
        "    case Days.Thu:\n",
        "        Console.WriteLine(\"Weekday - Time to work!\");\n",
        "        break;\n",
        "    case Days.Fri:\n",
        "        Console.WriteLine(\"Friday - Almost weekend!\");\n",
        "        break;\n",
        "    case Days.Sat:\n",
        "    case Days.Sun:\n",
        "        Console.WriteLine(\"Weekend - Time to relax!\");\n",
        "        break;\n",
        "}"
      ]
    },
    {
      "cell_type": "markdown",
      "metadata": {},
      "source": [
        "## 9. Loops - While Loop\n",
        "\n",
        "**Practice Description:**\n",
        "Use while loops to repeat code execution based on a condition."
      ]
    },
    {
      "cell_type": "code",
      "execution_count": null,
      "metadata": {
        "dotnet_interactive": {
          "language": "csharp"
        }
      },
      "outputs": [],
      "source": [
        "// While loop examples\n",
        "int counter = 1;\n",
        "\n",
        "Console.WriteLine(\"Counting from 1 to 5:\");\n",
        "while (counter <= 5)\n",
        "{\n",
        "    Console.WriteLine($\"Count: {counter}\");\n",
        "    counter++;\n",
        "}\n",
        "\n",
        "// While loop with user input simulation\n",
        "int attempts = 0;\n",
        "int maxAttempts = 3;\n",
        "bool success = false;\n",
        "\n",
        "while (attempts < maxAttempts && !success)\n",
        "{\n",
        "    attempts++;\n",
        "    Console.WriteLine($\"Attempt {attempts} of {maxAttempts}\");\n",
        "    \n",
        "    // Simulate success on 3rd attempt\n",
        "    if (attempts == 3)\n",
        "    {\n",
        "        success = true;\n",
        "        Console.WriteLine(\"Success!\");\n",
        "    }\n",
        "}"
      ]
    },
    {
      "cell_type": "markdown",
      "metadata": {},
      "source": [
        "## 10. Loops - For Loop\n",
        "\n",
        "**Practice Description:**\n",
        "Use for loops when you know exactly how many times to repeat code execution."
      ]
    },
    {
      "cell_type": "code",
      "execution_count": null,
      "metadata": {
        "dotnet_interactive": {
          "language": "csharp"
        }
      },
      "outputs": [],
      "source": [
        "// For loop examples\n",
        "Console.WriteLine(\"For loop counting 1 to 10:\");\n",
        "for (int i = 1; i <= 10; i++)\n",
        "{\n",
        "    Console.WriteLine($\"Number: {i}\");\n",
        "}\n",
        "\n",
        "// For loop with step increment\n",
        "Console.WriteLine(\"\\nEven numbers from 2 to 20:\");\n",
        "for (int i = 2; i <= 20; i += 2)\n",
        "{\n",
        "    Console.WriteLine($\"Even: {i}\");\n",
        "}\n",
        "\n",
        "// Nested for loops - multiplication table\n",
        "Console.WriteLine(\"\\n5x5 Multiplication Table:\");\n",
        "for (int i = 1; i <= 5; i++)\n",
        "{\n",
        "    for (int j = 1; j <= 5; j++)\n",
        "    {\n",
        "        Console.Write($\"{i * j,3} \");\n",
        "    }\n",
        "    Console.WriteLine();\n",
        "}"
      ]
    },
    {
      "cell_type": "markdown",
      "metadata": {},
      "source": [
        "## 11. Arrays and Collections\n",
        "\n",
        "**Practice Description:**\n",
        "Work with arrays to store multiple values of the same type in a single variable."
      ]
    },
    {
      "cell_type": "code",
      "execution_count": null,
      "metadata": {
        "dotnet_interactive": {
          "language": "csharp"
        }
      },
      "outputs": [],
      "source": [
        "// Array examples\n",
        "int[] numbers = { 1, 2, 3, 4, 5 };\n",
        "string[] names = { \"Alice\", \"Bob\", \"Charlie\", \"Diana\" };\n",
        "\n",
        "Console.WriteLine(\"Numbers array:\");\n",
        "for (int i = 0; i < numbers.Length; i++)\n",
        "{\n",
        "    Console.WriteLine($\"Index {i}: {numbers[i]}\");\n",
        "}\n",
        "\n",
        "Console.WriteLine(\"\\nNames array using foreach:\");\n",
        "foreach (string name in names)\n",
        "{\n",
        "    Console.WriteLine($\"Hello, {name}!\");\n",
        "}\n",
        "\n",
        "// Array operations\n",
        "int[] scores = { 85, 92, 78, 96, 88 };\n",
        "int sum = 0;\n",
        "int max = scores[0];\n",
        "\n",
        "foreach (int score in scores)\n",
        "{\n",
        "    sum += score;\n",
        "    if (score > max)\n",
        "        max = score;\n",
        "}\n",
        "\n",
        "double average = (double)sum / scores.Length;\n",
        "Console.WriteLine($\"\\nScores: [{string.Join(\", \", scores)}]\");\n",
        "Console.WriteLine($\"Sum: {sum}\");\n",
        "Console.WriteLine($\"Average: {average:F2}\");\n",
        "Console.WriteLine($\"Highest: {max}\");"
      ]
    },
    {
      "cell_type": "markdown",
      "metadata": {},
      "source": [
        "## 12. Classes and Objects - Basic Class\n",
        "\n",
        "**Practice Description:**\n",
        "Create and use classes - the foundation of object-oriented programming in C#."
      ]
    },
    {
      "cell_type": "code",
      "execution_count": null,
      "metadata": {
        "dotnet_interactive": {
          "language": "csharp"
        }
      },
      "outputs": [],
      "source": [
        "// Basic class definition\n",
        "public class Person\n",
        "{\n",
        "    // Properties\n",
        "    public string Name { get; set; }\n",
        "    public int Age { get; set; }\n",
        "    public string Email { get; set; }\n",
        "    \n",
        "    // Constructor\n",
        "    public Person(string name, int age, string email)\n",
        "    {\n",
        "        Name = name;\n",
        "        Age = age;\n",
        "        Email = email;\n",
        "    }\n",
        "    \n",
        "    // Method\n",
        "    public void Introduce()\n",
        "    {\n",
        "        Console.WriteLine($\"Hi, I'm {Name}, {Age} years old. Email: {Email}\");\n",
        "    }\n",
        "    \n",
        "    public bool IsAdult()\n",
        "    {\n",
        "        return Age >= 18;\n",
        "    }\n",
        "}\n",
        "\n",
        "// Using the class\n",
        "Person person1 = new Person(\"Alice Johnson\", 25, \"alice@email.com\");\n",
        "Person person2 = new Person(\"Bob Smith\", 17, \"bob@email.com\");\n",
        "\n",
        "person1.Introduce();\n",
        "Console.WriteLine($\"Is adult: {person1.IsAdult()}\");\n",
        "\n",
        "person2.Introduce();\n",
        "Console.WriteLine($\"Is adult: {person2.IsAdult()}\");"
      ]
    },
    {
      "cell_type": "markdown",
      "metadata": {},
      "source": [
        "## 13. Practice Challenge - Student Grade Calculator\n",
        "\n",
        "**Practice Description:**\n",
        "Combine multiple concepts: classes, arrays, loops, and conditional statements to create a student grade calculator."
      ]
    },
    {
      "cell_type": "code",
      "execution_count": null,
      "metadata": {
        "dotnet_interactive": {
          "language": "csharp"
        }
      },
      "outputs": [],
      "source": [
        "// Student class with grade calculation\n",
        "public class Student\n",
        "{\n",
        "    public string Name { get; set; }\n",
        "    public int[] Grades { get; set; }\n",
        "    \n",
        "    public Student(string name, int[] grades)\n",
        "    {\n",
        "        Name = name;\n",
        "        Grades = grades;\n",
        "    }\n",
        "    \n",
        "    public double CalculateAverage()\n",
        "    {\n",
        "        int sum = 0;\n",
        "        foreach (int grade in Grades)\n",
        "        {\n",
        "            sum += grade;\n",
        "        }\n",
        "        return (double)sum / Grades.Length;\n",
        "    }\n",
        "    \n",
        "    public string GetLetterGrade()\n",
        "    {\n",
        "        double average = CalculateAverage();\n",
        "        \n",
        "        if (average >= 90) return \"A\";\n",
        "        else if (average >= 80) return \"B\";\n",
        "        else if (average >= 70) return \"C\";\n",
        "        else if (average >= 60) return \"D\";\n",
        "        else return \"F\";\n",
        "    }\n",
        "    \n",
        "    public void DisplayReport()\n",
        "    {\n",
        "        Console.WriteLine($\"\\n=== Grade Report for {Name} ===\");\n",
        "        Console.WriteLine($\"Grades: [{string.Join(\", \", Grades)}]\");\n",
        "        Console.WriteLine($\"Average: {CalculateAverage():F2}\");\n",
        "        Console.WriteLine($\"Letter Grade: {GetLetterGrade()}\");\n",
        "        Console.WriteLine($\"Status: {(GetLetterGrade() != \"F\" ? \"PASS\" : \"FAIL\")}\");\n",
        "    }\n",
        "}\n",
        "\n",
        "// Create students and calculate grades\n",
        "Student[] students = {\n",
        "    new Student(\"Alice\", new int[] { 95, 87, 92, 88, 91 }),\n",
        "    new Student(\"Bob\", new int[] { 78, 82, 75, 80, 79 }),\n",
        "    new Student(\"Charlie\", new int[] { 65, 70, 68, 72, 69 }),\n",
        "    new Student(\"Diana\", new int[] { 45, 52, 48, 50, 47 })\n",
        "};\n",
        "\n",
        "Console.WriteLine(\"STUDENT GRADE CALCULATOR\");\n",
        "Console.WriteLine(\"========================\");\n",
        "\n",
        "foreach (Student student in students)\n",
        "{\n",
        "    student.DisplayReport();\n",
        "}\n",
        "\n",
        "// Class statistics\n",
        "double classTotal = 0;\n",
        "int passCount = 0;\n",
        "\n",
        "foreach (Student student in students)\n",
        "{\n",
        "    classTotal += student.CalculateAverage();\n",
        "    if (student.GetLetterGrade() != \"F\")\n",
        "        passCount++;\n",
        "}\n",
        "\n",
        "double classAverage = classTotal / students.Length;\n",
        "double passRate = (double)passCount / students.Length * 100;\n",
        "\n",
        "Console.WriteLine(\"\\n=== CLASS STATISTICS ===\");\n",
        "Console.WriteLine($\"Class Average: {classAverage:F2}\");\n",
        "Console.WriteLine($\"Pass Rate: {passRate:F1}% ({passCount}/{students.Length})\");"
      ]
    },
    {
      "cell_type": "markdown",
      "metadata": {},
      "source": [
        "## 14. Playground - Your Turn!\n",
        "\n",
        "**Practice Description:**\n",
        "Use this space to practice what you've learned. Try creating your own programs using the concepts above.\n",
        "\n",
        "**Suggested Exercises:**\n",
        "1. Create a simple calculator class\n",
        "2. Build a library book management system\n",
        "3. Make a number guessing game\n",
        "4. Create an employee payroll calculator"
      ]
    },
    {
      "cell_type": "code",
      "execution_count": null,
      "metadata": {
        "dotnet_interactive": {
          "language": "csharp"
        }
      },
      "outputs": [],
      "source": [
        "// Your practice code here!\n",
        "Console.WriteLine(\"Ready to practice C#!\");\n",
        "\n",
        "// Try creating your own classes, methods, and logic here"
      ]
    }
  ],
  "metadata": {
    "kernelspec": {
      "display_name": ".NET (C#)",
      "language": "C#",
      "name": ".net-csharp"
    },
    "language_info": {
      "file_extension": ".cs",
      "mimetype": "text/x-csharp",
      "name": "polyglot-notebook",
      "pygments_lexer": "csharp",
      "version": "8.0"
    },
    "polyglot_notebook": {
      "kernelInfo": {
        "defaultKernelName": "csharp",
        "items": [
          {
            "aliases": [],
            "name": "csharp"
          }
        ]
      }
    }
  },
  "nbformat": 4,
  "nbformat_minor": 4
}
