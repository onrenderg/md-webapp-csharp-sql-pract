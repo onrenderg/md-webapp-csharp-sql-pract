{
 "cells": [
  {
   "cell_type": "markdown",
   "metadata": {},
   "source": [
    "# T-SQL Practice Notebook\n",
    "## Comprehensive Guide to SQL Server Stored Procedures and Concepts\n",
    "\n",
    "This notebook covers essential T-SQL concepts including stored procedures, data types, variables, functions, and SQL execution flow."
   ]
  },
  {
   "cell_type": "markdown",
   "metadata": {},
   "source": [
    "## 1. Basic Stored Procedures\n",
    "\n",
    "### 1.1 No Parameter Procedure\n",
    "A simple stored procedure without any parameters."
   ]
  },
  {
   "cell_type": "code",
   "execution_count": null,
   "metadata": {
    "vscode": {
     "languageId": "sql"
    }
   },
   "outputs": [],
   "source": [
    "-- Create a basic procedure with no parameters\n",
    "CREATE PROCEDURE TestProcedureOne\n",
    "AS \n",
    "BEGIN\n",
    "\tPRINT 'TestProcedureOne'\n",
    "END\n",
    "\n",
    "-- Execute the procedure\n",
    "EXEC TestProcedureOne"
   ]
  },
  {
   "cell_type": "markdown",
   "metadata": {},
   "source": [
    "## 2. Stored Procedures with Parameters\n",
    "\n",
    "### 2.1 VARCHAR Parameter\n",
    "Working with string parameters in stored procedures."
   ]
  },
  {
   "cell_type": "code",
   "execution_count": null,
   "metadata": {
    "vscode": {
     "languageId": "sql"
    }
   },
   "outputs": [],
   "source": [
    "-- VARCHAR parameter example\n",
    "CREATE OR ALTER PROCEDURE TestProcedureTwo\n",
    "\t@TestParameter VARCHAR(11)\n",
    "AS \n",
    "BEGIN\n",
    "\tPRINT 'Hi,' + @TestParameter + '!'\n",
    "END\n",
    "\n",
    "EXEC TestProcedureTwo @TestParameter = 'John'"
   ]
  },
  {
   "cell_type": "markdown",
   "metadata": {},
   "source": [
    "### 2.2 Numeric Parameters\n",
    "Working with different numeric data types."
   ]
  },
  {
   "cell_type": "code",
   "execution_count": null,
   "metadata": {
    "vscode": {
     "languageId": "sql"
    }
   },
   "outputs": [],
   "source": [
    "-- INT parameter with CAST conversion\n",
    "CREATE OR ALTER PROCEDURE ProcIntExample\n",
    "\t@TestParameter INT\n",
    "AS \n",
    "BEGIN\n",
    "\tPRINT 'Hi,' + CAST(@TestParameter AS VARCHAR(10)) + '!'\n",
    "END\n",
    "\n",
    "EXEC ProcIntExample @TestParameter = 11"
   ]
  },
  {
   "cell_type": "code",
   "execution_count": null,
   "metadata": {
    "vscode": {
     "languageId": "sql"
    }
   },
   "outputs": [],
   "source": [
    "-- FLOAT parameter example\n",
    "CREATE OR ALTER PROCEDURE ProcFloatExample\n",
    "    @TestParameter FLOAT\n",
    "AS \n",
    "BEGIN\n",
    "    PRINT 'Hi,' + CAST(@TestParameter AS VARCHAR(30)) + '!'\n",
    "END\n",
    "\n",
    "EXEC ProcFloatExample @TestParameter = 11.123"
   ]
  },
  {
   "cell_type": "code",
   "execution_count": null,
   "metadata": {
    "vscode": {
     "languageId": "sql"
    }
   },
   "outputs": [],
   "source": [
    "-- DECIMAL parameter example\n",
    "CREATE OR ALTER PROCEDURE ProcDecimalExample\n",
    "    @Amount DECIMAL(10, 2)\n",
    "AS\n",
    "BEGIN\n",
    "    PRINT 'Amount is: ' + CAST(@Amount AS VARCHAR(20));\n",
    "END;\n",
    "\n",
    "EXEC ProcDecimalExample @Amount = 123.45"
   ]
  },
  {
   "cell_type": "markdown",
   "metadata": {},
   "source": [
    "### 2.3 Date and Time Parameters"
   ]
  },
  {
   "cell_type": "code",
   "execution_count": null,
   "metadata": {
    "vscode": {
     "languageId": "sql"
    }
   },
   "outputs": [],
   "source": [
    "-- DATE parameter\n",
    "CREATE OR ALTER PROCEDURE ProcDateExample\n",
    "    @BirthDate DATE\n",
    "AS\n",
    "BEGIN\n",
    "    PRINT 'Birth date: ' + CAST(@BirthDate AS VARCHAR(12));\n",
    "END;\n",
    "\n",
    "EXEC ProcDateExample @BirthDate = '1990-05-15'"
   ]
  },
  {
   "cell_type": "code",
   "execution_count": null,
   "metadata": {
    "vscode": {
     "languageId": "sql"
    }
   },
   "outputs": [],
   "source": [
    "-- DATETIME parameter\n",
    "CREATE OR ALTER PROCEDURE ProcDateTimeExample\n",
    "    @CreatedDate DATETIME\n",
    "AS\n",
    "BEGIN\n",
    "    PRINT 'Created at: ' + CAST(@CreatedDate AS VARCHAR(23));\n",
    "END;\n",
    "\n",
    "EXEC ProcDateTimeExample @CreatedDate = '2023-12-25 14:30:00'"
   ]
  },
  {
   "cell_type": "markdown",
   "metadata": {},
   "source": [
    "### 2.4 Special Data Types"
   ]
  },
  {
   "cell_type": "code",
   "execution_count": null,
   "metadata": {
    "vscode": {
     "languageId": "sql"
    }
   },
   "outputs": [],
   "source": [
    "-- BIT parameter (Boolean)\n",
    "CREATE OR ALTER PROCEDURE ProcBitExample\n",
    "    @IsActive BIT\n",
    "AS\n",
    "BEGIN\n",
    "    PRINT CASE WHEN @IsActive = 1 THEN 'Active' ELSE 'Inactive' END;\n",
    "END;\n",
    "\n",
    "EXEC ProcBitExample @IsActive = 1\n",
    "EXEC ProcBitExample @IsActive = 0"
   ]
  },
  {
   "cell_type": "code",
   "execution_count": null,
   "metadata": {
    "vscode": {
     "languageId": "sql"
    }
   },
   "outputs": [],
   "source": [
    "-- UNIQUEIDENTIFIER (GUID) parameter\n",
    "CREATE OR ALTER PROCEDURE ProcUniqueIdentifierExample\n",
    "    @UserID UNIQUEIDENTIFIER\n",
    "AS\n",
    "BEGIN\n",
    "    PRINT 'Received GUID: ' + CAST(@UserID AS VARCHAR(36));\n",
    "END;\n",
    "\n",
    "EXEC ProcUniqueIdentifierExample @UserID = NEWID()"
   ]
  },
  {
   "cell_type": "markdown",
   "metadata": {},
   "source": [
    "## 3. SQL Server Data Types Reference\n",
    "\n",
    "### 3.1 Numeric Types\n",
    "- **INT**: Integer numbers (-2,147,483,648 to 2,147,483,647)\n",
    "- **BIGINT**: Large integers (-9,223,372,036,854,775,808 to 9,223,372,036,854,775,807)\n",
    "- **SMALLINT**: Smaller integers (-32,768 to 32,767)\n",
    "- **DECIMAL(p,s)**: Fixed precision and scale decimals\n",
    "- **FLOAT**: Floating-point numbers\n",
    "\n",
    "### 3.2 Character/String Types\n",
    "- **CHAR(n)**: Fixed-length strings\n",
    "- **VARCHAR(n)**: Variable-length strings\n",
    "- **TEXT**: Large text (deprecated—use VARCHAR(MAX))\n",
    "- **NCHAR(n)**: Fixed-length Unicode strings\n",
    "- **NVARCHAR(n)**: Variable-length Unicode strings\n",
    "\n",
    "### 3.3 Date and Time Types\n",
    "- **DATE**: Date only (YYYY-MM-DD)\n",
    "- **TIME**: Time only (HH:MM:SS)\n",
    "- **DATETIME**: Date and time\n",
    "- **DATETIME2**: More precision date and time\n",
    "- **SMALLDATETIME**: Less precision\n",
    "- **DATETIMEOFFSET**: Date and time with timezone offset\n",
    "\n",
    "### 3.4 Other Types\n",
    "- **BIT**: Boolean (0 or 1)\n",
    "- **BINARY(n)**: Fixed-length binary data\n",
    "- **VARBINARY(n)**: Variable-length binary data\n",
    "- **UNIQUEIDENTIFIER**: GUID\n",
    "- **XML**: XML data\n",
    "- **TABLE**: Table variable type"
   ]
  },
  {
   "cell_type": "markdown",
   "metadata": {},
   "source": [
    "## 4. Local Variables with DECLARE\n",
    "\n",
    "### 4.1 When to use DECLARE?\n",
    "Use DECLARE inside procedures to create local variables for temporary storage and calculations."
   ]
  },
  {
   "cell_type": "code",
   "execution_count": null,
   "metadata": {
    "vscode": {
     "languageId": "sql"
    }
   },
   "outputs": [],
   "source": [
    "-- VARCHAR local variable example\n",
    "CREATE OR ALTER PROCEDURE PrintLocalVarExample\n",
    "AS\n",
    "BEGIN\n",
    "\tDECLARE @Name VARCHAR(20);\n",
    "\tSET @Name = 'John';\n",
    "\n",
    "\tPRINT 'Hello, ' + @Name + '!';\n",
    "END;\n",
    "\n",
    "EXEC PrintLocalVarExample;"
   ]
  },
  {
   "cell_type": "code",
   "execution_count": null,
   "metadata": {
    "vscode": {
     "languageId": "sql"
    }
   },
   "outputs": [],
   "source": [
    "-- INT local variable example\n",
    "CREATE OR ALTER PROCEDURE PrintLocalIntExample\n",
    "AS\n",
    "BEGIN\n",
    "    DECLARE @LocalVar INT;\n",
    "    SET @LocalVar = 10;\n",
    "    \n",
    "    PRINT 'The value of LocalVar is: ' + CAST(@LocalVar AS VARCHAR(10));\n",
    "END;\n",
    "\n",
    "EXEC PrintLocalIntExample;"
   ]
  },
  {
   "cell_type": "markdown",
   "metadata": {},
   "source": [
    "## 5. Built-in Functions\n",
    "\n",
    "### 5.1 Function Categories\n",
    "- **String functions**: Manipulate text data\n",
    "- **Numeric functions**: Work with numbers\n",
    "- **Date & Time functions**: Handle dates and times\n",
    "- **Conversion functions**: Convert between data types\n",
    "- **Aggregate functions**: Perform calculations on sets of rows (SUM, COUNT)\n",
    "- **Logical functions**: ISNULL(), COALESCE()\n",
    "- **System functions**: Return info about SQL Server, sessions, etc."
   ]
  },
  {
   "cell_type": "code",
   "execution_count": null,
   "metadata": {
    "vscode": {
     "languageId": "sql"
    }
   },
   "outputs": [],
   "source": [
    "-- String Functions Example\n",
    "CREATE OR ALTER PROCEDURE StringFunctionsExample\n",
    "    @Input VARCHAR(50)\n",
    "AS\n",
    "BEGIN\n",
    "    PRINT 'Original Input: ' + @Input;\n",
    "\n",
    "    -- LEN() - Length of the string\n",
    "    PRINT 'Length: ' + CAST(LEN(@Input) AS VARCHAR);\n",
    "\n",
    "    -- SUBSTRING() - Extract substring (start at 2, length 5)\n",
    "    PRINT 'Substring(2,5): ' + SUBSTRING(@Input, 2, 5);\n",
    "\n",
    "    -- REPLACE() - Replace 'a' with 'X'\n",
    "    PRINT 'Replace ''a'' with ''X'': ' + REPLACE(@Input, 'a', 'X');\n",
    "\n",
    "    -- LEFT() - First 3 characters\n",
    "    PRINT 'Left 3 chars: ' + LEFT(@Input, 3);\n",
    "\n",
    "    -- RIGHT() - Last 3 characters\n",
    "    PRINT 'Right 3 chars: ' + RIGHT(@Input, 3);\n",
    "\n",
    "    -- CHARINDEX() - Position of 'e' in string\n",
    "    PRINT 'Position of ''e'': ' + CAST(CHARINDEX('e', @Input) AS VARCHAR);\n",
    "END;\n",
    "\n",
    "EXEC StringFunctionsExample @Input = 'Hello World'"
   ]
  },
  {
   "cell_type": "markdown",
   "metadata": {},
   "source": [
    "## 6. SQL Query Execution Flow\n",
    "\n",
    "### 6.1 Logical Processing Order\n",
    "Understanding the order in which SQL Server processes query clauses:\n",
    "\n",
    "1. **FROM** - Tables and views are identified, JOINs processed, aliases assigned\n",
    "2. **ON** - JOIN conditions are evaluated\n",
    "3. **JOIN** - Rows from joined tables are combined\n",
    "4. **WHERE** - Rows filtered based on conditions\n",
    "5. **GROUP BY** - Rows grouped into aggregates\n",
    "6. **WITH CUBE/ROLLUP** - Aggregations with subtotals (if used)\n",
    "7. **HAVING** - Groups filtered after aggregation\n",
    "8. **SELECT** - Columns, expressions, functions evaluated\n",
    "9. **DISTINCT** - Duplicate rows removed if requested\n",
    "10. **ORDER BY** - Final result sorted\n",
    "11. **OFFSET/FETCH** - Rows paginated (skip/fetch)"
   ]
  },
  {
   "cell_type": "code",
   "execution_count": null,
   "metadata": {
    "vscode": {
     "languageId": "sql"
    }
   },
   "outputs": [],
   "source": [
    "-- Example showing execution flow with aliases\n",
    "SELECT e.FirstName, e.LastName  -- Step 8: Use alias here, already known\n",
    "FROM Employees AS e             -- Step 1: Alias 'e' assigned here\n",
    "WHERE e.Department = 'Sales';   -- Step 4: Alias used here for filtering"
   ]
  },
  {
   "cell_type": "markdown",
   "metadata": {},
   "source": [
    "## 7. Practice Exercises\n",
    "\n",
    "### Exercise 1: Create a Multi-Parameter Procedure\n",
    "Create a stored procedure that accepts multiple parameters of different data types and displays formatted output."
   ]
  },
  {
   "cell_type": "code",
   "execution_count": null,
   "metadata": {
    "vscode": {
     "languageId": "sql"
    }
   },
   "outputs": [],
   "source": [
    "-- Your solution here\n",
    "CREATE OR ALTER PROCEDURE MultiParamExample\n",
    "    @Name VARCHAR(50),\n",
    "    @Age INT,\n",
    "    @Salary DECIMAL(10,2),\n",
    "    @IsActive BIT,\n",
    "    @HireDate DATE\n",
    "AS\n",
    "BEGIN\n",
    "    -- Complete this procedure\n",
    "END"
   ]
  },
  {
   "cell_type": "markdown",
   "metadata": {},
   "source": [
    "### Exercise 2: String Manipulation Challenge\n",
    "Create a procedure that takes a full name and separates it into first and last name using string functions."
   ]
  },
  {
   "cell_type": "code",
   "execution_count": null,
   "metadata": {
    "vscode": {
     "languageId": "sql"
    }
   },
   "outputs": [],
   "source": [
    "-- Your solution here\n",
    "CREATE OR ALTER PROCEDURE SplitNameExample\n",
    "    @FullName VARCHAR(100)\n",
    "AS\n",
    "BEGIN\n",
    "    -- Use CHARINDEX and SUBSTRING to split the name\n",
    "END"
   ]
  },
  {
   "cell_type": "markdown",
   "metadata": {},
   "source": [
    "## 8. Next Steps: Advanced T-SQL Concepts\n",
    "\n",
    "### Topics to Explore Next:\n",
    "- **Control-of-Flow Statements**: IF...ELSE, WHILE loops, CASE expressions\n",
    "- **Error Handling**: TRY...CATCH blocks\n",
    "- **Transactions**: BEGIN TRANSACTION, COMMIT, ROLLBACK\n",
    "- **Joins and Set Operations**: INNER JOIN, LEFT JOIN, UNION, etc.\n",
    "- **Subqueries and CTEs**: Common Table Expressions\n",
    "- **Temporary Tables and Table Variables**\n",
    "- **Aggregations & Grouping**: GROUP BY, HAVING\n",
    "- **Advanced Stored Procedure Features**: Output parameters, Return codes\n",
    "\n",
    "### Best Practices:\n",
    "1. Always use `CREATE OR ALTER` for procedures to avoid errors\n",
    "2. Use appropriate data types for parameters\n",
    "3. Include proper error handling in production code\n",
    "4. Comment your code for better maintainability\n",
    "5. Test procedures with various input scenarios"
   ]
  }
 ],
 "metadata": {
  "kernelspec": {
   "display_name": "SQL",
   "language": "sql",
   "name": "sql"
  },
  "language_info": {
   "name": "sql"
  }
 },
 "nbformat": 4,
 "nbformat_minor": 2
}
