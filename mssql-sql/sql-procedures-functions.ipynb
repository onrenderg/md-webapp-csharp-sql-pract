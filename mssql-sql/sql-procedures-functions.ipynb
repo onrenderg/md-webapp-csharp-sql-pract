{
 "cells": [
  {
   "cell_type": "markdown",
   "id": "procedures-intro",
   "metadata": {},
   "source": [
    "# T-SQL Stored Procedures and Functions\n",
    "\n",
    "This notebook covers stored procedures, user-defined functions, and advanced T-SQL programming concepts.\n",
    "\n",
    "**Prerequisites**: Complete the basic setup and joins notebooks first."
   ]
  },
  {
   "cell_type": "markdown",
   "id": "variables-intro",
   "metadata": {},
   "source": [
    "## Exercise 1: Variables and Data Types\n",
    "\n",
    "**Task**: Learn to declare and use variables in T-SQL.\n",
    "\n",
    "**Concept**: Variables store temporary values and must be declared with specific data types."
   ]
  },
  {
   "cell_type": "code",
   "execution_count": null,
   "id": "variables-solution",
   "metadata": {
    "vscode": {
     "languageId": "sql"
    }
   },
   "outputs": [],
   "source": [
    "-- Variables and Data Types\n",
    "DECLARE @EmployeeName NVARCHAR(100);\n",
    "DECLARE @Salary DECIMAL(10,2);\n",
    "DECLARE @HireDate DATE;\n",
    "DECLARE @IsManager BIT;\n",
    "DECLARE @Counter INT = 1;\n",
    "\n",
    "-- Assign values\n",
    "SET @EmployeeName = 'John Smith';\n",
    "SET @Salary = 75000.00;\n",
    "SET @HireDate = '2020-01-15';\n",
    "SET @IsManager = 1;\n",
    "\n",
    "-- Display values\n",
    "SELECT \n",
    "    @EmployeeName AS Name,\n",
    "    @Salary AS Salary,\n",
    "    @HireDate AS HireDate,\n",
    "    @IsManager AS IsManager,\n",
    "    @Counter AS Counter;"
   ]
  },
  {
   "cell_type": "markdown",
   "id": "simple-procedure",
   "metadata": {},
   "source": [
    "## Exercise 2: Simple Stored Procedure\n",
    "\n",
    "**Task**: Create a procedure to get employee information.\n",
    "\n",
    "**Concept**: Stored procedures are reusable code blocks that can accept parameters."
   ]
  },
  {
   "cell_type": "code",
   "execution_count": null,
   "id": "simple-procedure-solution",
   "metadata": {
    "vscode": {
     "languageId": "sql"
    }
   },
   "outputs": [],
   "source": [
    "-- Create Simple Stored Procedure\n",
    "CREATE PROCEDURE GetAllEmployees\n",
    "AS\n",
    "BEGIN\n",
    "    SET NOCOUNT ON;\n",
    "    \n",
    "    SELECT \n",
    "        e.EmployeeID,\n",
    "        e.FirstName + ' ' + e.LastName AS FullName,\n",
    "        d.DepartmentName,\n",
    "        e.Salary,\n",
    "        e.HireDate\n",
    "    FROM Employees e\n",
    "    INNER JOIN Departments d ON e.DepartmentID = d.DepartmentID\n",
    "    ORDER BY e.LastName, e.FirstName;\n",
    "END;\n",
    "\n",
    "-- Execute the procedure\n",
    "EXEC GetAllEmployees;"
   ]
  },
  {
   "cell_type": "markdown",
   "id": "parameterized-procedure",
   "metadata": {},
   "source": [
    "## Exercise 3: Procedure with Parameters\n",
    "\n",
    "**Task**: Create a procedure that accepts input parameters.\n",
    "\n",
    "**Concept**: Parameters make procedures flexible and reusable with different inputs."
   ]
  },
  {
   "cell_type": "code",
   "execution_count": null,
   "id": "parameterized-procedure-solution",
   "metadata": {
    "vscode": {
     "languageId": "sql"
    }
   },
   "outputs": [],
   "source": [
    "-- Create Procedure with Input Parameters\n",
    "CREATE PROCEDURE GetEmployeesByDepartment\n",
    "    @DepartmentName NVARCHAR(50),\n",
    "    @MinSalary DECIMAL(10,2) = 0\n",
    "AS\n",
    "BEGIN\n",
    "    SET NOCOUNT ON;\n",
    "    \n",
    "    SELECT \n",
    "        e.FirstName + ' ' + e.LastName AS EmployeeName,\n",
    "        e.Email,\n",
    "        e.Salary,\n",
    "        e.HireDate,\n",
    "        DATEDIFF(YEAR, e.HireDate, GETDATE()) AS YearsOfService\n",
    "    FROM Employees e\n",
    "    INNER JOIN Departments d ON e.DepartmentID = d.DepartmentID\n",
    "    WHERE d.DepartmentName = @DepartmentName\n",
    "      AND e.Salary >= @MinSalary\n",
    "    ORDER BY e.Salary DESC;\n",
    "END;\n",
    "\n",
    "-- Execute with parameters\n",
    "EXEC GetEmployeesByDepartment @DepartmentName = 'IT', @MinSalary = 60000;"
   ]
  },
  {
   "cell_type": "markdown",
   "id": "output-parameters",
   "metadata": {},
   "source": [
    "## Exercise 4: Procedure with Output Parameters\n",
    "\n",
    "**Task**: Create a procedure that returns values through output parameters.\n",
    "\n",
    "**Concept**: Output parameters allow procedures to return multiple values."
   ]
  },
  {
   "cell_type": "code",
   "execution_count": null,
   "id": "output-parameters-solution",
   "metadata": {
    "vscode": {
     "languageId": "sql"
    }
   },
   "outputs": [],
   "source": [
    "-- Create Procedure with Output Parameters\n",
    "CREATE PROCEDURE GetDepartmentStats\n",
    "    @DepartmentName NVARCHAR(50),\n",
    "    @EmployeeCount INT OUTPUT,\n",
    "    @AverageSalary DECIMAL(10,2) OUTPUT,\n",
    "    @TotalSalaryBudget DECIMAL(12,2) OUTPUT\n",
    "AS\n",
    "BEGIN\n",
    "    SET NOCOUNT ON;\n",
    "    \n",
    "    SELECT \n",
    "        @EmployeeCount = COUNT(e.EmployeeID),\n",
    "        @AverageSalary = AVG(e.Salary),\n",
    "        @TotalSalaryBudget = SUM(e.Salary)\n",
    "    FROM Employees e\n",
    "    INNER JOIN Departments d ON e.DepartmentID = d.DepartmentID\n",
    "    WHERE d.DepartmentName = @DepartmentName;\n",
    "END;\n",
    "\n",
    "-- Execute and capture output\n",
    "DECLARE @EmpCount INT, @AvgSal DECIMAL(10,2), @TotalBudget DECIMAL(12,2);\n",
    "\n",
    "EXEC GetDepartmentStats \n",
    "    @DepartmentName = 'IT',\n",
    "    @EmployeeCount = @EmpCount OUTPUT,\n",
    "    @AverageSalary = @AvgSal OUTPUT,\n",
    "    @TotalSalaryBudget = @TotalBudget OUTPUT;\n",
    "\n",
    "SELECT @EmpCount AS EmployeeCount, @AvgSal AS AverageSalary, @TotalBudget AS TotalBudget;"
   ]
  },
  {
   "cell_type": "markdown",
   "id": "scalar-function",
   "metadata": {},
   "source": [
    "## Exercise 5: Scalar Function\n",
    "\n",
    "**Task**: Create a scalar function that returns a single value.\n",
    "\n",
    "**Concept**: Scalar functions return one value and can be used in SELECT statements."
   ]
  },
  {
   "cell_type": "code",
   "execution_count": null,
   "id": "scalar-function-solution",
   "metadata": {
    "vscode": {
     "languageId": "sql"
    }
   },
   "outputs": [],
   "source": [
    "-- Create Scalar Function\n",
    "CREATE FUNCTION CalculateBonus(@Salary DECIMAL(10,2), @YearsOfService INT)\n",
    "RETURNS DECIMAL(10,2)\n",
    "AS\n",
    "BEGIN\n",
    "    DECLARE @Bonus DECIMAL(10,2);\n",
    "    \n",
    "    SET @Bonus = CASE \n",
    "        WHEN @YearsOfService >= 5 THEN @Salary * 0.10\n",
    "        WHEN @YearsOfService >= 3 THEN @Salary * 0.07\n",
    "        WHEN @YearsOfService >= 1 THEN @Salary * 0.05\n",
    "        ELSE @Salary * 0.02\n",
    "    END;\n",
    "    \n",
    "    RETURN @Bonus;\n",
    "END;\n",
    "\n",
    "-- Use the function\n",
    "SELECT \n",
    "    FirstName + ' ' + LastName AS EmployeeName,\n",
    "    Salary,\n",
    "    DATEDIFF(YEAR, HireDate, GETDATE()) AS YearsOfService,\n",
    "    dbo.CalculateBonus(Salary, DATEDIFF(YEAR, HireDate, GETDATE())) AS Bonus\n",
    "FROM Employees\n",
    "ORDER BY Bonus DESC;"
   ]
  },
  {
   "cell_type": "markdown",
   "id": "table-function",
   "metadata": {},
   "source": [
    "## Exercise 6: Table-Valued Function\n",
    "\n",
    "**Task**: Create a function that returns a table.\n",
    "\n",
    "**Concept**: Table-valued functions return a table and can be used like views."
   ]
  },
  {
   "cell_type": "code",
   "execution_count": null,
   "id": "table-function-solution",
   "metadata": {
    "vscode": {
     "languageId": "sql"
    }
   },
   "outputs": [],
   "source": [
    "-- Create Table-Valued Function\n",
    "CREATE FUNCTION GetEmployeesByDateRange(@StartDate DATE, @EndDate DATE)\n",
    "RETURNS TABLE\n",
    "AS\n",
    "RETURN\n",
    "(\n",
    "    SELECT \n",
    "        e.EmployeeID,\n",
    "        e.FirstName + ' ' + e.LastName AS FullName,\n",
    "        d.DepartmentName,\n",
    "        e.Salary,\n",
    "        e.HireDate,\n",
    "        DATEDIFF(YEAR, e.HireDate, GETDATE()) AS YearsOfService\n",
    "    FROM Employees e\n",
    "    INNER JOIN Departments d ON e.DepartmentID = d.DepartmentID\n",
    "    WHERE e.HireDate BETWEEN @StartDate AND @EndDate\n",
    ");\n",
    "\n",
    "-- Use the table-valued function\n",
    "SELECT * FROM dbo.GetEmployeesByDateRange('2020-01-01', '2022-12-31')\n",
    "ORDER BY HireDate;"
   ]
  },
  {
   "cell_type": "markdown",
   "id": "error-handling",
   "metadata": {},
   "source": [
    "## Exercise 7: Error Handling in Procedures\n",
    "\n",
    "**Task**: Create a procedure with comprehensive error handling.\n",
    "\n",
    "**Concept**: TRY-CATCH blocks handle errors gracefully in stored procedures."
   ]
  },
  {
   "cell_type": "code",
   "execution_count": null,
   "id": "error-handling-solution",
   "metadata": {
    "vscode": {
     "languageId": "sql"
    }
   },
   "outputs": [],
   "source": [
    "-- Create Procedure with Error Handling\n",
    "CREATE PROCEDURE AddNewEmployee\n",
    "    @FirstName NVARCHAR(50),\n",
    "    @LastName NVARCHAR(50),\n",
    "    @Email NVARCHAR(100),\n",
    "    @DepartmentName NVARCHAR(50),\n",
    "    @Salary DECIMAL(10,2),\n",
    "    @NewEmployeeID INT OUTPUT\n",
    "AS\n",
    "BEGIN\n",
    "    SET NOCOUNT ON;\n",
    "    \n",
    "    DECLARE @DepartmentID INT;\n",
    "    \n",
    "    BEGIN TRY\n",
    "        -- Start transaction\n",
    "        BEGIN TRANSACTION;\n",
    "        \n",
    "        -- Get Department ID\n",
    "        SELECT @DepartmentID = DepartmentID \n",
    "        FROM Departments \n",
    "        WHERE DepartmentName = @DepartmentName;\n",
    "        \n",
    "        IF @DepartmentID IS NULL\n",
    "        BEGIN\n",
    "            THROW 50001, 'Department not found', 1;\n",
    "        END\n",
    "        \n",
    "        -- Insert employee\n",
    "        INSERT INTO Employees (FirstName, LastName, Email, DepartmentID, Salary)\n",
    "        VALUES (@FirstName, @LastName, @Email, @DepartmentID, @Salary);\n",
    "        \n",
    "        SET @NewEmployeeID = SCOPE_IDENTITY();\n",
    "        \n",
    "        -- Commit transaction\n",
    "        COMMIT TRANSACTION;\n",
    "        \n",
    "        PRINT 'Employee added successfully with ID: ' + CAST(@NewEmployeeID AS NVARCHAR(10));\n",
    "        \n",
    "    END TRY\n",
    "    BEGIN CATCH\n",
    "        -- Rollback transaction\n",
    "        IF @@TRANCOUNT > 0\n",
    "            ROLLBACK TRANSACTION;\n",
    "        \n",
    "        -- Return error information\n",
    "        DECLARE @ErrorMessage NVARCHAR(4000) = ERROR_MESSAGE();\n",
    "        DECLARE @ErrorSeverity INT = ERROR_SEVERITY();\n",
    "        DECLARE @ErrorState INT = ERROR_STATE();\n",
    "        \n",
    "        PRINT 'Error occurred: ' + @ErrorMessage;\n",
    "        \n",
    "        -- Re-throw the error\n",
    "        THROW;\n",
    "    END CATCH\n",
    "END;\n",
    "\n",
    "-- Test the procedure\n",
    "DECLARE @NewID INT;\n",
    "EXEC AddNewEmployee \n",
    "    @FirstName = 'Alice', \n",
    "    @LastName = 'Johnson', \n",
    "    @Email = 'alice.johnson@company.com',\n",
    "    @DepartmentName = 'IT',\n",
    "    @Salary = 68000,\n",
    "    @NewEmployeeID = @NewID OUTPUT;\n",
    "\n",
    "SELECT @NewID AS NewEmployeeID;"
   ]
  }
 ],
 "metadata": {
  "kernelspec": {
   "display_name": "SQL",
   "language": "sql",
   "name": "sql"
  },
  "language_info": {
   "file_extension": ".sql",
   "mimetype": "text/x-sql",
   "name": "sql",
   "version": "1.0"
  }
 },
 "nbformat": 4,
 "nbformat_minor": 5
}
