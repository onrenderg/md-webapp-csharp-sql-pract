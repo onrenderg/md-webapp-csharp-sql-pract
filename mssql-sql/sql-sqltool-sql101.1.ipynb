{
 "cells": [
  {
   "cell_type": "markdown",
   "id": "intro",
   "metadata": {},
   "source": [
    "# T-SQL 101: Basic Commands and Keywords\n",
    "\n",
    "Welcome to T-SQL 101! Learn Microsoft SQL Server's Transact-SQL from the ground up, starting with individual commands and keywords.\n",
    "\n",
    "## SQL Command Categories\n",
    "\n",
    "T-SQL commands are organized into categories:\n",
    "- **DDL (Data Definition Language)**: CREATE, ALTER, DROP, TRUNCATE\n",
    "- **DML (Data Manipulation Language)**: SELECT, INSERT, UPDATE, DELETE\n",
    "- **DCL (Data Control Language)**: GRANT, REVOKE, DENY\n",
    "- **TCL (Transaction Control Language)**: BEGIN, COMMIT, ROLLBACK\n",
    "\n",
    "Let's start with the most basic commands!"
   ]
  },
  {
   "cell_type": "markdown",
   "id": "exercise1",
   "metadata": {},
   "source": [
    "## Exercise 1: Your First T-SQL Command - SELECT\n",
    "\n",
    "**Task**: Write a query to see all available databases on your SQL Server instance.\n",
    "\n",
    "**Hint**: Use the `sys.databases` system view and SELECT the `name` column."
   ]
  },
  {
   "cell_type": "code",
   "execution_count": null,
   "id": "solution1",
   "metadata": {
    "vscode": {
     "languageId": "sql"
    }
   },
   "outputs": [],
   "source": [
    "-- Solution: List all databases\n",
    "SELECT name AS DatabaseName\n",
    "FROM sys.databases;"
   ]
  },
  {
   "cell_type": "markdown",
   "id": "exercise2",
   "metadata": {},
   "source": [
    "## Exercise 2: USE Command - Switch Database Context\n",
    "\n",
    "**Task**: Switch to a specific database called 'secExpense'.\n",
    "\n",
    "**Syntax**: `USE database_name;`\n",
    "\n",
    "**Purpose**: Changes the current database context for subsequent commands."
   ]
  },
  {
   "cell_type": "code",
   "execution_count": null,
   "id": "solution2",
   "metadata": {
    "vscode": {
     "languageId": "sql"
    }
   },
   "outputs": [],
   "source": [
    "-- Solution: Switch to secExpense database\n",
    "USE secExpense;"
   ]
  },
  {
   "cell_type": "markdown",
   "id": "exercise3",
   "metadata": {},
   "source": [
    "## Exercise 3: DDL Command - CREATE DATABASE\n",
    "\n",
    "**Task**: Create a new database called 'LearningSQL'.\n",
    "\n",
    "**Syntax**: `CREATE DATABASE database_name;`\n",
    "\n",
    "**Note**: This is a DDL (Data Definition Language) command that defines database structure."
   ]
  },
  {
   "cell_type": "code",
   "execution_count": null,
   "id": "solution3",
   "metadata": {
    "vscode": {
     "languageId": "sql"
    }
   },
   "outputs": [],
   "source": [
    "-- Solution: Create a new database\n",
    "CREATE DATABASE LearningSQL;"
   ]
  },
  {
   "cell_type": "markdown",
   "id": "exercise4",
   "metadata": {},
   "source": [
    "## Exercise 4: DDL Command - CREATE TABLE\n",
    "\n",
    "**Task**: Create a table called 'Employees' with the following columns:\n",
    "- EmployeeID (integer, primary key, auto-increment)\n",
    "- FirstName (text, required)\n",
    "- LastName (text, required)\n",
    "- Email (text, unique)\n",
    "- HireDate (date, default to current date)\n",
    "\n",
    "**Keywords to use**: CREATE TABLE, INT, NVARCHAR, PRIMARY KEY, IDENTITY, NOT NULL, UNIQUE, DEFAULT"
   ]
  },
  {
   "cell_type": "code",
   "execution_count": null,
   "id": "solution4",
   "metadata": {
    "vscode": {
     "languageId": "sql"
    }
   },
   "outputs": [],
   "source": [
    "-- Solution: Create Employees table\n",
    "USE LearningSQL;\n",
    "\n",
    "CREATE TABLE Employees (\n",
    "    EmployeeID INT IDENTITY(1,1) PRIMARY KEY,\n",
    "    FirstName NVARCHAR(50) NOT NULL,\n",
    "    LastName NVARCHAR(50) NOT NULL,\n",
    "    Email NVARCHAR(100) UNIQUE,\n",
    "    HireDate DATE DEFAULT GETDATE()\n",
    ");"
   ]
  },
  {
   "cell_type": "markdown",
   "id": "exercise5",
   "metadata": {},
   "source": [
    "## Exercise 5: DML Command - INSERT\n",
    "\n",
    "**Task**: Add 3 employees to the Employees table.\n",
    "\n",
    "**Syntax**: `INSERT INTO table_name (columns) VALUES (values);`\n",
    "\n",
    "**Note**: This is a DML (Data Manipulation Language) command that manipulates data."
   ]
  },
  {
   "cell_type": "code",
   "execution_count": null,
   "id": "solution5",
   "metadata": {
    "vscode": {
     "languageId": "sql"
    }
   },
   "outputs": [],
   "source": [
    "-- Solution: Insert employee records\n",
    "INSERT INTO Employees (FirstName, LastName, Email)\n",
    "VALUES \n",
    "    ('John', 'Smith', 'john.smith@company.com'),\n",
    "    ('Jane', 'Doe', 'jane.doe@company.com'),\n",
    "    ('Mike', 'Johnson', 'mike.johnson@company.com');"
   ]
  },
  {
   "cell_type": "markdown",
   "id": "exercise6",
   "metadata": {},
   "source": [
    "## Exercise 6: DML Command - SELECT with WHERE\n",
    "\n",
    "**Task**: Retrieve all employees whose first name starts with 'J'.\n",
    "\n",
    "**Keywords**: SELECT, FROM, WHERE, LIKE\n",
    "\n",
    "**Wildcard**: Use '%' for multiple characters, '_' for single character"
   ]
  },
  {
   "cell_type": "code",
   "execution_count": null,
   "id": "solution6",
   "metadata": {
    "vscode": {
     "languageId": "sql"
    }
   },
   "outputs": [],
   "source": [
    "-- Solution: Select employees with names starting with 'J'\n",
    "SELECT EmployeeID, FirstName, LastName, Email, HireDate\n",
    "FROM Employees\n",
    "WHERE FirstName LIKE 'J%';"
   ]
  },
  {
   "cell_type": "markdown",
   "id": "exercise7",
   "metadata": {},
   "source": [
    "## Exercise 7: DML Command - UPDATE\n",
    "\n",
    "**Task**: Update Jane Doe's email to 'jane.doe.updated@company.com'.\n",
    "\n",
    "**Syntax**: `UPDATE table_name SET column = value WHERE condition;`\n",
    "\n",
    "**Warning**: Always use WHERE clause to avoid updating all rows!"
   ]
  },
  {
   "cell_type": "code",
   "execution_count": null,
   "id": "solution7",
   "metadata": {
    "vscode": {
     "languageId": "sql"
    }
   },
   "outputs": [],
   "source": [
    "-- Solution: Update specific employee's email\n",
    "UPDATE Employees\n",
    "SET Email = 'jane.doe.updated@company.com'\n",
    "WHERE FirstName = 'Jane' AND LastName = 'Doe';"
   ]
  },
  {
   "cell_type": "markdown",
   "id": "exercise8",
   "metadata": {},
   "source": [
    "## Exercise 8: DDL Command - ALTER TABLE\n",
    "\n",
    "**Task**: Add a new column 'Department' (text, 50 characters) to the Employees table.\n",
    "\n",
    "**Syntax**: `ALTER TABLE table_name ADD column_name data_type;`\n",
    "\n",
    "**Purpose**: Modify existing table structure without losing data."
   ]
  },
  {
   "cell_type": "code",
   "execution_count": null,
   "id": "solution8",
   "metadata": {
    "vscode": {
     "languageId": "sql"
    }
   },
   "outputs": [],
   "source": [
    "-- Solution: Add Department column\n",
    "ALTER TABLE Employees\n",
    "ADD Department NVARCHAR(50);"
   ]
  },
  {
   "cell_type": "markdown",
   "id": "exercise9",
   "metadata": {},
   "source": [
    "## Exercise 9: DML Command - UPDATE with New Column\n",
    "\n",
    "**Task**: Update the Department for all employees:\n",
    "- John Smith: 'IT'\n",
    "- Jane Doe: 'HR'\n",
    "- Mike Johnson: 'Finance'"
   ]
  },
  {
   "cell_type": "code",
   "execution_count": null,
   "id": "solution9",
   "metadata": {
    "vscode": {
     "languageId": "sql"
    }
   },
   "outputs": [],
   "source": [
    "-- Solution: Update department information\n",
    "UPDATE Employees SET Department = 'IT' WHERE FirstName = 'John' AND LastName = 'Smith';\n",
    "UPDATE Employees SET Department = 'HR' WHERE FirstName = 'Jane' AND LastName = 'Doe';\n",
    "UPDATE Employees SET Department = 'Finance' WHERE FirstName = 'Mike' AND LastName = 'Johnson';"
   ]
  },
  {
   "cell_type": "markdown",
   "id": "exercise10",
   "metadata": {},
   "source": [
    "## Exercise 10: DML Command - SELECT with ORDER BY\n",
    "\n",
    "**Task**: Display all employees ordered by their last name alphabetically.\n",
    "\n",
    "**Keywords**: SELECT, FROM, ORDER BY, ASC (ascending), DESC (descending)"
   ]
  },
  {
   "cell_type": "code",
   "execution_count": null,
   "id": "solution10",
   "metadata": {
    "vscode": {
     "languageId": "sql"
    }
   },
   "outputs": [],
   "source": [
    "-- Solution: Select all employees ordered by last name\n",
    "SELECT EmployeeID, FirstName, LastName, Email, Department, HireDate\n",
    "FROM Employees\n",
    "ORDER BY LastName ASC;"
   ]
  },
  {
   "cell_type": "markdown",
   "id": "exercise11",
   "metadata": {},
   "source": [
    "## Exercise 11: DDL Command - CREATE INDEX\n",
    "\n",
    "**Task**: Create an index on the Email column to improve query performance.\n",
    "\n",
    "**Syntax**: `CREATE INDEX index_name ON table_name (column_name);`\n",
    "\n",
    "**Purpose**: Indexes speed up data retrieval operations."
   ]
  },
  {
   "cell_type": "code",
   "execution_count": null,
   "id": "solution11",
   "metadata": {
    "vscode": {
     "languageId": "sql"
    }
   },
   "outputs": [],
   "source": [
    "-- Solution: Create index on Email column\n",
    "CREATE INDEX IX_Employees_Email ON Employees (Email);"
   ]
  },
  {
   "cell_type": "markdown",
   "id": "exercise12",
   "metadata": {},
   "source": [
    "## Exercise 12: System Information Queries\n",
    "\n",
    "**Task**: Write queries to get information about your database objects:\n",
    "1. List all tables in current database\n",
    "2. List all columns in the Employees table\n",
    "3. List all indexes on the Employees table"
   ]
  },
  {
   "cell_type": "code",
   "execution_count": null,
   "id": "solution12",
   "metadata": {
    "vscode": {
     "languageId": "sql"
    }
   },
   "outputs": [],
   "source": [
    "-- Solution: Database object information queries\n",
    "\n",
    "-- 1. List all tables\n",
    "SELECT TABLE_NAME, TABLE_TYPE\n",
    "FROM INFORMATION_SCHEMA.TABLES\n",
    "WHERE TABLE_TYPE = 'BASE TABLE';"
   ]
  },
  {
   "cell_type": "code",
   "execution_count": null,
   "id": "solution12b",
   "metadata": {
    "vscode": {
     "languageId": "sql"
    }
   },
   "outputs": [],
   "source": [
    "-- 2. List all columns in Employees table\n",
    "SELECT COLUMN_NAME, DATA_TYPE, IS_NULLABLE, COLUMN_DEFAULT\n",
    "FROM INFORMATION_SCHEMA.COLUMNS\n",
    "WHERE TABLE_NAME = 'Employees';"
   ]
  },
  {
   "cell_type": "code",
   "execution_count": null,
   "id": "solution12c",
   "metadata": {
    "vscode": {
     "languageId": "sql"
    }
   },
   "outputs": [],
   "source": [
    "-- 3. List all indexes on Employees table\n",
    "SELECT \n",
    "    i.name AS IndexName,\n",
    "    i.type_desc AS IndexType,\n",
    "    c.name AS ColumnName\n",
    "FROM sys.indexes i\n",
    "INNER JOIN sys.index_columns ic ON i.object_id = ic.object_id AND i.index_id = ic.index_id\n",
    "INNER JOIN sys.columns c ON ic.object_id = c.object_id AND ic.column_id = c.column_id\n",
    "WHERE i.object_id = OBJECT_ID('Employees');"
   ]
  },
  {
   "cell_type": "markdown",
   "id": "exercise13",
   "metadata": {},
   "source": [
    "## Exercise 13: DML Command - DELETE\n",
    "\n",
    "**Task**: Delete the employee with EmployeeID = 3 (Mike Johnson).\n",
    "\n",
    "**Syntax**: `DELETE FROM table_name WHERE condition;`\n",
    "\n",
    "**Warning**: Always use WHERE clause to avoid deleting all rows!"
   ]
  },
  {
   "cell_type": "code",
   "execution_count": null,
   "id": "solution13",
   "metadata": {
    "vscode": {
     "languageId": "sql"
    }
   },
   "outputs": [],
   "source": [
    "-- Solution: Delete specific employee\n",
    "DELETE FROM Employees\n",
    "WHERE EmployeeID = 3;"
   ]
  },
  {
   "cell_type": "markdown",
   "id": "exercise14",
   "metadata": {},
   "source": [
    "## Exercise 14: DDL Command - DROP INDEX\n",
    "\n",
    "**Task**: Remove the index we created on the Email column.\n",
    "\n",
    "**Syntax**: `DROP INDEX index_name ON table_name;`"
   ]
  },
  {
   "cell_type": "code",
   "execution_count": null,
   "id": "solution14",
   "metadata": {
    "vscode": {
     "languageId": "sql"
    }
   },
   "outputs": [],
   "source": [
    "-- Solution: Drop the email index\n",
    "DROP INDEX IX_Employees_Email ON Employees;"
   ]
  },
  {
   "cell_type": "markdown",
   "id": "exercise15",
   "metadata": {},
   "source": [
    "## Exercise 15: TCL Commands - Transaction Control\n",
    "\n",
    "**Task**: Use transaction control to safely insert a new employee. If any error occurs, rollback the changes.\n",
    "\n",
    "**Keywords**: BEGIN TRANSACTION, COMMIT, ROLLBACK, TRY, CATCH"
   ]
  },
  {
   "cell_type": "code",
   "execution_count": null,
   "id": "solution15",
   "metadata": {
    "vscode": {
     "languageId": "sql"
    }
   },
   "outputs": [],
   "source": [
    "-- Solution: Transaction with error handling\n",
    "BEGIN TRANSACTION;\n",
    "\n",
    "BEGIN TRY\n",
    "    INSERT INTO Employees (FirstName, LastName, Email, Department)\n",
    "    VALUES ('Sarah', 'Wilson', 'sarah.wilson@company.com', 'Marketing');\n",
    "    \n",
    "    -- If we reach here, commit the transaction\n",
    "    COMMIT TRANSACTION;\n",
    "    PRINT 'Employee added successfully!';\n",
    "END TRY\n",
    "BEGIN CATCH\n",
    "    -- If error occurs, rollback\n",
    "    ROLLBACK TRANSACTION;\n",
    "    PRINT 'Error occurred: ' + ERROR_MESSAGE();\n",
    "END CATCH;"
   ]
  },
  {
   "cell_type": "markdown",
   "id": "exercise16",
   "metadata": {},
   "source": [
    "## Exercise 16: DDL Command - TRUNCATE vs DELETE\n",
    "\n",
    "**Task**: Understand the difference between TRUNCATE and DELETE.\n",
    "\n",
    "**TRUNCATE**: Removes all rows, resets identity, faster, cannot use WHERE\n",
    "\n",
    "**DELETE**: Can remove specific rows, slower, can use WHERE clause\n",
    "\n",
    "First, let's see current data, then demonstrate TRUNCATE."
   ]
  },
  {
   "cell_type": "code",
   "execution_count": null,
   "id": "solution16",
   "metadata": {
    "vscode": {
     "languageId": "sql"
    }
   },
   "outputs": [],
   "source": [
    "-- Solution: Show difference between TRUNCATE and DELETE\n",
    "\n",
    "-- First, see current data\n",
    "SELECT * FROM Employees;"
   ]
  },
  {
   "cell_type": "code",
   "execution_count": null,
   "id": "solution16b",
   "metadata": {
    "vscode": {
     "languageId": "sql"
    }
   },
   "outputs": [],
   "source": [
    "-- TRUNCATE removes all data and resets identity counter\n",
    "-- Uncomment the next line to test (WARNING: removes all data!)\n",
    "-- TRUNCATE TABLE Employees;"
   ]
  },
  {
   "cell_type": "markdown",
   "id": "exercise17",
   "metadata": {},
   "source": [
    "## Exercise 17: DDL Command - DROP TABLE\n",
    "\n",
    "**Task**: Remove the Employees table completely.\n",
    "\n",
    "**Syntax**: `DROP TABLE table_name;`\n",
    "\n",
    "**Warning**: This permanently deletes the table and all its data!"
   ]
  },
  {
   "cell_type": "code",
   "execution_count": null,
   "id": "solution17",
   "metadata": {
    "vscode": {
     "languageId": "sql"
    }
   },
   "outputs": [],
   "source": [
    "-- Solution: Drop the table (uncomment to execute)\n",
    "-- DROP TABLE Employees;"
   ]
  },
  {
   "cell_type": "markdown",
   "id": "exercise18",
   "metadata": {},
   "source": [
    "## Exercise 18: DDL Command - DROP DATABASE\n",
    "\n",
    "**Task**: Remove the LearningSQL database completely.\n",
    "\n",
    "**Syntax**: `DROP DATABASE database_name;`\n",
    "\n",
    "**Note**: You cannot drop a database while connected to it."
   ]
  },
  {
   "cell_type": "code",
   "execution_count": null,
   "id": "solution18",
   "metadata": {
    "vscode": {
     "languageId": "sql"
    }
   },
   "outputs": [],
   "source": [
    "-- Solution: Drop the database (uncomment to execute)\n",
    "-- USE master;  -- Switch to master database first\n",
    "-- DROP DATABASE LearningSQL;"
   ]
  },
  {
   "cell_type": "markdown",
   "id": "summary",
   "metadata": {},
   "source": [
    "## Summary: T-SQL Command Categories\n",
    "\n",
    "You've now learned the basic T-SQL commands in each category:\n",
    "\n",
    "### DDL (Data Definition Language):\n",
    "- `CREATE DATABASE` - Create new database\n",
    "- `CREATE TABLE` - Create new table\n",
    "- `ALTER TABLE` - Modify table structure\n",
    "- `CREATE INDEX` - Create performance index\n",
    "- `DROP INDEX` - Remove index\n",
    "- `DROP TABLE` - Remove table\n",
    "- `DROP DATABASE` - Remove database\n",
    "- `TRUNCATE TABLE` - Remove all table data quickly\n",
    "\n",
    "### DML (Data Manipulation Language):\n",
    "- `SELECT` - Retrieve data\n",
    "- `INSERT` - Add new data\n",
    "- `UPDATE` - Modify existing data\n",
    "- `DELETE` - Remove specific data\n",
    "\n",
    "### TCL (Transaction Control Language):\n",
    "- `BEGIN TRANSACTION` - Start transaction\n",
    "- `COMMIT` - Save changes permanently\n",
    "- `ROLLBACK` - Undo changes\n",
    "\n",
    "### Key Concepts Learned:\n",
    "- Primary keys and identity columns\n",
    "- Data types (INT, NVARCHAR, DATE)\n",
    "- Constraints (NOT NULL, UNIQUE, DEFAULT)\n",
    "- Wildcards in WHERE clauses (LIKE, %)\n",
    "- System views (INFORMATION_SCHEMA)\n",
    "- Error handling (TRY-CATCH)\n",
    "- Transaction safety\n",
    "\n",
    "## Next Steps:\n",
    "Practice these basic commands until you're comfortable, then move on to:\n",
    "- Advanced SELECT queries (JOINs, subqueries)\n",
    "- Functions and expressions\n",
    "- Stored procedures\n",
    "- Views and CTEs"
   ]
  }
 ],
 "metadata": {
  "kernelspec": {
   "display_name": "SQL",
   "language": "sql",
   "name": "sql"
  },
  "language_info": {
   "file_extension": ".sql",
   "mimetype": "text/x-sql",
   "name": "sql",
   "version": "1.0"
  }
 },
 "nbformat": 4,
 "nbformat_minor": 5
}
