{
 "cells": [
  {
   "cell_type": "markdown",
   "metadata": {},
   "source": [
    "# SQL Clauses Step-by-Step Practice\n",
    "## Building Procedures with Essential SQL Clauses\n",
    "\n",
    "Learn SQL clauses step-by-step by building a token generation procedure."
   ]
  },
  {
   "cell_type": "markdown",
   "metadata": {},
   "source": [
    "## Step 1: OUTPUT Parameters\n",
    "\n",
    "### Concept: OUTPUT Parameters\n",
    "OUTPUT parameters allow procedures to return values back to the caller."
   ]
  },
  {
   "cell_type": "code",
   "execution_count": null,
   "metadata": {},
   "outputs": [],
   "source": [
    "-- Basic OUTPUT parameter example\n",
    "CREATE OR ALTER PROCEDURE GetStatusExample\n",
    "    @status_code INT = 0 OUTPUT,\n",
    "    @status_message VARCHAR(200) = '' OUTPUT\n",
    "AS\n",
    "BEGIN\n",
    "    SET @status_code = 200;\n",
    "    SET @status_message = 'Success';\n",
    "END\n",
    "\n",
    "-- Test the OUTPUT parameters\n",
    "DECLARE @code INT, @msg VARCHAR(200);\n",
    "EXEC GetStatusExample @status_code = @code OUTPUT, @status_message = @msg OUTPUT;\n",
    "PRINT 'Code: ' + CAST(@code AS VARCHAR) + ', Message: ' + @msg;"
   ]
  },
  {
   "cell_type": "markdown",
   "metadata": {},
   "source": [
    "## Step 2: DECLARE Variables\n",
    "\n",
    "### Concept: Multiple Variable Declaration\n",
    "DECLARE multiple variables for data processing and temporary storage."
   ]
  },
  {
   "cell_type": "code",
   "execution_count": null,
   "metadata": {},
   "outputs": [],
   "source": [
    "-- Multiple DECLARE statements\n",
    "CREATE OR ALTER PROCEDURE DeclareVariablesExample\n",
    "AS\n",
    "BEGIN\n",
    "    DECLARE @token VARCHAR(32) = '';\n",
    "    DECLARE @char_set VARCHAR(75) = 'abcdefghijklmnopqrstuvwxyzABCDEFGHIJKLMNOPQRSTUVWXYZ0123456789';\n",
    "    DECLARE @Length INT = 32;\n",
    "    DECLARE @token_id VARCHAR(32) = '';\n",
    "    DECLARE @i INT = 1;\n",
    "    \n",
    "    PRINT 'Variables declared successfully';\n",
    "    PRINT 'Character set length: ' + CAST(LEN(@char_set) AS VARCHAR);\n",
    "    PRINT 'Token length: ' + CAST(@Length AS VARCHAR);\n",
    "END\n",
    "\n",
    "EXEC DeclareVariablesExample;"
   ]
  },
  {
   "cell_type": "markdown",
   "metadata": {},
   "source": [
    "## Step 3: WHILE Loop\n",
    "\n",
    "### Concept: WHILE Loop for Iteration\n",
    "Use WHILE loops to repeat operations until a condition is met."
   ]
  },
  {
   "cell_type": "code",
   "execution_count": null,
   "metadata": {},
   "outputs": [],
   "source": [
    "-- Simple WHILE loop example\n",
    "CREATE OR ALTER PROCEDURE WhileLoopExample\n",
    "AS\n",
    "BEGIN\n",
    "    DECLARE @i INT = 1;\n",
    "    DECLARE @result VARCHAR(100) = '';\n",
    "    \n",
    "    WHILE @i <= 5\n",
    "    BEGIN\n",
    "        SET @result = @result + CAST(@i AS VARCHAR) + ' ';\n",
    "        SET @i = @i + 1;\n",
    "    END\n",
    "    \n",
    "    PRINT 'Numbers: ' + @result;\n",
    "END\n",
    "\n",
    "EXEC WhileLoopExample;"
   ]
  },
  {
   "cell_type": "code",
   "execution_count": null,
   "metadata": {},
   "outputs": [],
   "source": [
    "-- Token generation with WHILE loop\n",
    "CREATE OR ALTER PROCEDURE TokenGenerationExample\n",
    "AS\n",
    "BEGIN\n",
    "    DECLARE @char_set VARCHAR(75) = 'ABCDEFGHIJKLMNOPQRSTUVWXYZ0123456789';\n",
    "    DECLARE @Length INT = 8;\n",
    "    DECLARE @token_id VARCHAR(32) = '';\n",
    "    DECLARE @i INT = 1;\n",
    "    \n",
    "    WHILE @i <= @Length\n",
    "    BEGIN\n",
    "        SET @token_id = @token_id + SUBSTRING(@char_set, ABS(CHECKSUM(NEWID())) % LEN(@char_set) + 1, 1);\n",
    "        SET @i = @i + 1;\n",
    "    END\n",
    "    \n",
    "    PRINT 'Generated Token: ' + @token_id;\n",
    "END\n",
    "\n",
    "EXEC TokenGenerationExample;"
   ]
  },
  {
   "cell_type": "markdown",
   "metadata": {},
   "source": [
    "## Step 4: DELETE Clause\n",
    "\n",
    "### Concept: DELETE with WHERE Condition\n",
    "Remove expired records using DELETE with conditional WHERE clause."
   ]
  },
  {
   "cell_type": "code",
   "execution_count": null,
   "metadata": {},
   "outputs": [],
   "source": [
    "-- Create sample table for demonstration\n",
    "CREATE TABLE #temp_tokens (\n",
    "    token_id VARCHAR(32),\n",
    "    expire_datetime DATETIME DEFAULT DATEADD(HOUR, 1, GETDATE())\n",
    ");\n",
    "\n",
    "-- Insert sample data\n",
    "INSERT INTO #temp_tokens (token_id, expire_datetime) VALUES \n",
    "('OLD_TOKEN_1', DATEADD(HOUR, -2, GETDATE())),  -- Expired\n",
    "('OLD_TOKEN_2', DATEADD(HOUR, -1, GETDATE())),  -- Expired\n",
    "('VALID_TOKEN', DATEADD(HOUR, 2, GETDATE()));   -- Valid\n",
    "\n",
    "-- Show before deletion\n",
    "SELECT 'Before DELETE' AS Status, * FROM #temp_tokens;\n",
    "\n",
    "-- DELETE expired tokens\n",
    "DELETE FROM #temp_tokens WHERE expire_datetime < GETDATE();\n",
    "\n",
    "-- Show after deletion\n",
    "SELECT 'After DELETE' AS Status, * FROM #temp_tokens;\n",
    "\n",
    "DROP TABLE #temp_tokens;"
   ]
  },
  {
   "cell_type": "markdown",
   "metadata": {},
   "source": [
    "## Step 5: INSERT Clause\n",
    "\n",
    "### Concept: INSERT with Values\n",
    "Add new records to tables using INSERT statement."
   ]
  },
  {
   "cell_type": "code",
   "execution_count": null,
   "metadata": {},
   "outputs": [],
   "source": [
    "-- Create sample table\n",
    "CREATE TABLE #token_master (\n",
    "    id INT IDENTITY(1,1),\n",
    "    token_id VARCHAR(32),\n",
    "    created_date DATETIME DEFAULT GETDATE()\n",
    ");\n",
    "\n",
    "-- INSERT example\n",
    "CREATE OR ALTER PROCEDURE InsertTokenExample\n",
    "    @new_token VARCHAR(32)\n",
    "AS\n",
    "BEGIN\n",
    "    INSERT INTO #token_master (token_id) VALUES (@new_token);\n",
    "    \n",
    "    PRINT 'Rows affected: ' + CAST(@@ROWCOUNT AS VARCHAR);\n",
    "    \n",
    "    SELECT * FROM #token_master;\n",
    "END\n",
    "\n",
    "EXEC InsertTokenExample @new_token = 'ABC123XYZ';\n",
    "\n",
    "DROP TABLE #token_master;"
   ]
  },
  {
   "cell_type": "markdown",
   "metadata": {},
   "source": [
    "## Step 6: IF-ELSE Control Flow\n",
    "\n",
    "### Concept: Conditional Logic with IF-ELSE\n",
    "Use IF-ELSE to handle different execution paths based on conditions."
   ]
  },
  {
   "cell_type": "code",
   "execution_count": null,
   "metadata": {},
   "outputs": [],
   "source": [
    "-- Basic IF-ELSE example\n",
    "CREATE OR ALTER PROCEDURE IfElseExample\n",
    "    @test_value INT\n",
    "AS\n",
    "BEGIN\n",
    "    IF @test_value > 0\n",
    "    BEGIN\n",
    "        PRINT 'Value is positive: ' + CAST(@test_value AS VARCHAR);\n",
    "    END\n",
    "    ELSE\n",
    "    BEGIN\n",
    "        PRINT 'Value is zero or negative: ' + CAST(@test_value AS VARCHAR);\n",
    "    END\n",
    "END\n",
    "\n",
    "EXEC IfElseExample @test_value = 5;\n",
    "EXEC IfElseExample @test_value = -3;"
   ]
  },
  {
   "cell_type": "code",
   "execution_count": null,
   "metadata": {},
   "outputs": [],
   "source": [
    "-- IF-ELSE with @@ROWCOUNT\n",
    "CREATE OR ALTER PROCEDURE RowCountCheckExample\n",
    "AS\n",
    "BEGIN\n",
    "    CREATE TABLE #test_table (id INT, name VARCHAR(50));\n",
    "    \n",
    "    INSERT INTO #test_table VALUES (1, 'Test');\n",
    "    \n",
    "    IF @@ROWCOUNT > 0\n",
    "    BEGIN\n",
    "        PRINT 'Insert successful. Rows affected: ' + CAST(@@ROWCOUNT AS VARCHAR);\n",
    "        SELECT 'Success' AS Status, 200 AS StatusCode;\n",
    "    END\n",
    "    ELSE\n",
    "    BEGIN\n",
    "        PRINT 'Insert failed';\n",
    "        SELECT 'Failed' AS Status, 400 AS StatusCode;\n",
    "    END\n",
    "    \n",
    "    DROP TABLE #test_table;\n",
    "END\n",
    "\n",
    "EXEC RowCountCheckExample;"
   ]
  },
  {
   "cell_type": "markdown",
   "metadata": {},
   "source": [
    "## Step 7: SELECT Clause\n",
    "\n",
    "### Concept: SELECT for Output\n",
    "Use SELECT to return data and results from procedures."
   ]
  },
  {
   "cell_type": "code",
   "execution_count": null,
   "metadata": {},
   "outputs": [],
   "source": [
    "-- SELECT with variables\n",
    "CREATE OR ALTER PROCEDURE SelectOutputExample\n",
    "AS\n",
    "BEGIN\n",
    "    DECLARE @token_id VARCHAR(32) = 'ABC123';\n",
    "    DECLARE @status_code INT = 200;\n",
    "    DECLARE @status_message VARCHAR(200) = 'Created';\n",
    "    \n",
    "    -- Return multiple values in one SELECT\n",
    "    SELECT \n",
    "        @token_id AS token_id,\n",
    "        @status_code AS status_code,\n",
    "        @status_message AS status_message;\n",
    "END\n",
    "\n",
    "EXEC SelectOutputExample;"
   ]
  },
  {
   "cell_type": "markdown",
   "metadata": {},
   "source": [
    "## Step 8: Complete Token Generation Procedure\n",
    "\n",
    "### Putting It All Together\n",
    "Combine all clauses into a complete token generation procedure."
   ]
  },
  {
   "cell_type": "code",
   "execution_count": null,
   "metadata": {},
   "outputs": [],
   "source": [
    "-- Complete token generation procedure\n",
    "CREATE OR ALTER PROCEDURE mobile_bearer_token_generate\n",
    "    @status_code INT = 0 OUTPUT,\n",
    "    @status_message VARCHAR(200) = '' OUTPUT\n",
    "AS\n",
    "BEGIN\n",
    "    -- Step 1: DECLARE variables\n",
    "    DECLARE @token VARCHAR(32) = '';\n",
    "    DECLARE @char_set VARCHAR(75) = 'abcdefghijklmnopqrstuvwxyzABCDEFGHIJKLMNOPQRSTUVWXYZ0123456789';\n",
    "    DECLARE @Length INT = 32;\n",
    "    DECLARE @token_id VARCHAR(32) = '';\n",
    "    DECLARE @i INT = 1;\n",
    "    \n",
    "    -- Step 2: WHILE loop for token generation\n",
    "    WHILE @i <= @Length\n",
    "    BEGIN\n",
    "        SET @token_id = @token_id + SUBSTRING(@char_set, ABS(CHECKSUM(NEWID())) % LEN(@char_set) + 1, 1);\n",
    "        SET @i = @i + 1;\n",
    "    END\n",
    "    \n",
    "    -- Step 3: Create temp table for demo\n",
    "    CREATE TABLE #mobile_token_master (\n",
    "        token_id VARCHAR(32),\n",
    "        expire_datetime DATETIME DEFAULT DATEADD(HOUR, 24, GETDATE())\n",
    "    );\n",
    "    \n",
    "    -- Step 4: DELETE expired tokens\n",
    "    DELETE FROM #mobile_token_master WHERE expire_datetime < GETDATE();\n",
    "    \n",
    "    -- Step 5: INSERT new token\n",
    "    INSERT INTO #mobile_token_master (token_id) VALUES (@token_id);\n",
    "    \n",
    "    -- Step 6: IF-ELSE based on @@ROWCOUNT\n",
    "    IF @@ROWCOUNT > 0\n",
    "    BEGIN\n",
    "        SELECT @status_code = 200;\n",
    "        SELECT @status_message = 'Created';\n",
    "    END\n",
    "    ELSE\n",
    "    BEGIN\n",
    "        SELECT '' AS token_id;\n",
    "        SELECT @status_code = 400;\n",
    "        SELECT @status_message = 'Token Generation Failed';\n",
    "    END\n",
    "    \n",
    "    -- Step 7: SELECT final output\n",
    "    SELECT @token_id AS token_id, @status_code AS status_code, @status_message AS status_message;\n",
    "    \n",
    "    DROP TABLE #mobile_token_master;\n",
    "END"
   ]
  },
  {
   "cell_type": "code",
   "execution_count": null,
   "metadata": {},
   "outputs": [],
   "source": [
    "-- Test the complete procedure\n",
    "DECLARE @code INT, @msg VARCHAR(200);\n",
    "EXEC mobile_bearer_token_generate @status_code = @code OUTPUT, @status_message = @msg OUTPUT;\n",
    "PRINT 'Final Status - Code: ' + CAST(@code AS VARCHAR) + ', Message: ' + @msg;"
   ]
  },
  {
   "cell_type": "markdown",
   "metadata": {},
   "source": [
    "## Practice Exercises\n",
    "\n",
    "### Exercise 1: Build Your Own Token Procedure\n",
    "Create a procedure that generates a 16-character token using only numbers."
   ]
  },
  {
   "cell_type": "code",
   "execution_count": null,
   "metadata": {},
   "outputs": [],
   "source": [
    "-- Your solution here\n",
    "CREATE OR ALTER PROCEDURE GenerateNumericToken\n",
    "    @token_length INT = 16,\n",
    "    @generated_token VARCHAR(32) OUTPUT\n",
    "AS\n",
    "BEGIN\n",
    "    -- Complete this procedure using the concepts learned\n",
    "END"
   ]
  },
  {
   "cell_type": "markdown",
   "metadata": {},
   "source": [
    "### Exercise 2: Conditional Token Cleanup\n",
    "Create a procedure that deletes tokens older than a specified number of hours."
   ]
  },
  {
   "cell_type": "code",
   "execution_count": null,
   "metadata": {},
   "outputs": [],
   "source": [
    "-- Your solution here\n",
    "CREATE OR ALTER PROCEDURE CleanupOldTokens\n",
    "    @hours_old INT,\n",
    "    @deleted_count INT OUTPUT\n",
    "AS\n",
    "BEGIN\n",
    "    -- Use DELETE with DATEADD and @@ROWCOUNT\n",
    "END"
   ]
  },
  {
   "cell_type": "markdown",
   "metadata": {},
   "source": [
    "## Key Concepts Summary\n",
    "\n",
    "### Clause Execution Order:\n",
    "1. **DECLARE** - Define variables\n",
    "2. **WHILE** - Loop through operations\n",
    "3. **DELETE** - Remove unwanted data\n",
    "4. **INSERT** - Add new data\n",
    "5. **IF-ELSE** - Conditional logic\n",
    "6. **SELECT** - Return results\n",
    "\n",
    "### Best Practices:\n",
    "- Use OUTPUT parameters for return values\n",
    "- Check @@ROWCOUNT after DML operations\n",
    "- Handle both success and failure scenarios\n",
    "- Use meaningful variable names\n",
    "- Include proper error handling"
   ]
  }
 ],
 "metadata": {
  "kernelspec": {
   "display_name": "SQL",
   "language": "sql",
   "name": "sql"
  },
  "language_info": {
   "name": "sql"
  }
 },
 "nbformat": 4,
 "nbformat_minor": 2
}
