{
 "cells": [
  {
   "cell_type": "markdown",
   "id": "joins-intro",
   "metadata": {},
   "source": [
    "# T-SQL Joins and Advanced Queries\n",
    "\n",
    "This notebook covers JOIN operations, subqueries, and advanced T-SQL concepts.\n",
    "\n",
    "**Prerequisites**: Complete the basic setup from sql-sqltool-sql101.2.ipynb first."
   ]
  },
  {
   "cell_type": "markdown",
   "id": "inner-join",
   "metadata": {},
   "source": [
    "## Exercise 1: INNER JOIN\n",
    "\n",
    "**Task**: Show employees with their department names.\n",
    "\n",
    "**Concept**: INNER JOIN returns only rows that have matching values in both tables."
   ]
  },
  {
   "cell_type": "code",
   "execution_count": null,
   "id": "inner-join-solution",
   "metadata": {
    "vscode": {
     "languageId": "sql"
    }
   },
   "outputs": [],
   "source": [
    "-- INNER JOIN: Employees with Department Names\n",
    "SELECT \n",
    "    e.FirstName + ' ' + e.LastName AS EmployeeName,\n",
    "    d.DepartmentName,\n",
    "    e.Salary,\n",
    "    d.Location\n",
    "FROM Employees e\n",
    "INNER JOIN Departments d ON e.DepartmentID = d.DepartmentID\n",
    "ORDER BY d.DepartmentName, e.LastName;"
   ]
  },
  {
   "cell_type": "markdown",
   "id": "left-join",
   "metadata": {},
   "source": [
    "## Exercise 2: LEFT JOIN\n",
    "\n",
    "**Task**: Show all departments and their employees (including departments with no employees).\n",
    "\n",
    "**Concept**: LEFT JOIN returns all rows from the left table, even if no match in the right table."
   ]
  },
  {
   "cell_type": "code",
   "execution_count": null,
   "id": "left-join-solution",
   "metadata": {
    "vscode": {
     "languageId": "sql"
    }
   },
   "outputs": [],
   "source": [
    "-- LEFT JOIN: All Departments with Employee Count\n",
    "SELECT \n",
    "    d.DepartmentName,\n",
    "    d.Location,\n",
    "    COUNT(e.EmployeeID) AS EmployeeCount,\n",
    "    AVG(e.Salary) AS AverageSalary\n",
    "FROM Departments d\n",
    "LEFT JOIN Employees e ON d.DepartmentID = e.DepartmentID\n",
    "GROUP BY d.DepartmentID, d.DepartmentName, d.Location\n",
    "ORDER BY EmployeeCount DESC;"
   ]
  },
  {
   "cell_type": "markdown",
   "id": "self-join",
   "metadata": {},
   "source": [
    "## Exercise 3: Self JOIN\n",
    "\n",
    "**Task**: Show employees with their managers.\n",
    "\n",
    "**Concept**: Self JOIN joins a table with itself to show hierarchical relationships."
   ]
  },
  {
   "cell_type": "code",
   "execution_count": null,
   "id": "self-join-solution",
   "metadata": {
    "vscode": {
     "languageId": "sql"
    }
   },
   "outputs": [],
   "source": [
    "-- Self JOIN: Employees with their Managers\n",
    "SELECT \n",
    "    emp.FirstName + ' ' + emp.LastName AS Employee,\n",
    "    mgr.FirstName + ' ' + mgr.LastName AS Manager,\n",
    "    emp.Salary AS EmployeeSalary,\n",
    "    mgr.Salary AS ManagerSalary\n",
    "FROM Employees emp\n",
    "LEFT JOIN Employees mgr ON emp.ManagerID = mgr.EmployeeID\n",
    "ORDER BY mgr.LastName, emp.LastName;"
   ]
  },
  {
   "cell_type": "markdown",
   "id": "multiple-joins",
   "metadata": {},
   "source": [
    "## Exercise 4: Multiple JOINs\n",
    "\n",
    "**Task**: Show project assignments with employee and department details.\n",
    "\n",
    "**Concept**: Chain multiple JOINs to combine data from several related tables."
   ]
  },
  {
   "cell_type": "code",
   "execution_count": null,
   "id": "multiple-joins-solution",
   "metadata": {
    "vscode": {
     "languageId": "sql"
    }
   },
   "outputs": [],
   "source": [
    "-- Multiple JOINs: Project Assignments with Full Details\n",
    "SELECT \n",
    "    p.ProjectName,\n",
    "    e.FirstName + ' ' + e.LastName AS EmployeeName,\n",
    "    d.DepartmentName,\n",
    "    pa.Role,\n",
    "    pa.HoursAllocated,\n",
    "    p.Budget AS ProjectBudget\n",
    "FROM ProjectAssignments pa\n",
    "INNER JOIN Employees e ON pa.EmployeeID = e.EmployeeID\n",
    "INNER JOIN Projects p ON pa.ProjectID = p.ProjectID\n",
    "INNER JOIN Departments d ON e.DepartmentID = d.DepartmentID\n",
    "ORDER BY p.ProjectName, pa.HoursAllocated DESC;"
   ]
  },
  {
   "cell_type": "markdown",
   "id": "subqueries",
   "metadata": {},
   "source": [
    "## Exercise 5: Subqueries\n",
    "\n",
    "**Task**: Find employees earning above the average salary.\n",
    "\n",
    "**Concept**: Subqueries allow you to use the result of one query inside another."
   ]
  },
  {
   "cell_type": "code",
   "execution_count": null,
   "id": "subqueries-solution",
   "metadata": {
    "vscode": {
     "languageId": "sql"
    }
   },
   "outputs": [],
   "source": [
    "-- Subquery: Employees Above Average Salary\n",
    "SELECT \n",
    "    FirstName + ' ' + LastName AS EmployeeName,\n",
    "    Salary,\n",
    "    (SELECT AVG(Salary) FROM Employees) AS CompanyAverage,\n",
    "    Salary - (SELECT AVG(Salary) FROM Employees) AS SalaryDifference\n",
    "FROM Employees\n",
    "WHERE Salary > (SELECT AVG(Salary) FROM Employees)\n",
    "ORDER BY Salary DESC;"
   ]
  },
  {
   "cell_type": "markdown",
   "id": "cte-intro",
   "metadata": {},
   "source": [
    "## Exercise 6: Common Table Expressions (CTEs)\n",
    "\n",
    "**Task**: Create a CTE to calculate department statistics.\n",
    "\n",
    "**Concept**: CTEs provide a way to create temporary named result sets."
   ]
  },
  {
   "cell_type": "code",
   "execution_count": null,
   "id": "cte-solution",
   "metadata": {
    "vscode": {
     "languageId": "sql"
    }
   },
   "outputs": [],
   "source": [
    "-- CTE: Department Statistics\n",
    "WITH DepartmentStats AS (\n",
    "    SELECT \n",
    "        d.DepartmentName,\n",
    "        COUNT(e.EmployeeID) AS EmployeeCount,\n",
    "        AVG(e.Salary) AS AvgSalary,\n",
    "        MAX(e.Salary) AS MaxSalary,\n",
    "        MIN(e.Salary) AS MinSalary\n",
    "    FROM Departments d\n",
    "    LEFT JOIN Employees e ON d.DepartmentID = e.DepartmentID\n",
    "    GROUP BY d.DepartmentID, d.DepartmentName\n",
    ")\n",
    "SELECT \n",
    "    DepartmentName,\n",
    "    EmployeeCount,\n",
    "    FORMAT(AvgSalary, 'C') AS AverageSalary,\n",
    "    FORMAT(MaxSalary, 'C') AS HighestSalary,\n",
    "    FORMAT(MinSalary, 'C') AS LowestSalary,\n",
    "    CASE \n",
    "        WHEN EmployeeCount > 2 THEN 'Large Department'\n",
    "        WHEN EmployeeCount > 0 THEN 'Small Department'\n",
    "        ELSE 'No Employees'\n",
    "    END AS DepartmentSize\n",
    "FROM DepartmentStats\n",
    "ORDER BY EmployeeCount DESC;"
   ]
  }
 ],
 "metadata": {
  "kernelspec": {
   "display_name": "SQL",\n   "language": "sql",\n   "name": "sql"\n  },\n  "language_info": {\n   "file_extension": ".sql",\n   "mimetype": "text/x-sql",\n   "name": "sql",\n   "version": "1.0"\n  }\n },\n "nbformat": 4,\n "nbformat_minor": 5\n}
