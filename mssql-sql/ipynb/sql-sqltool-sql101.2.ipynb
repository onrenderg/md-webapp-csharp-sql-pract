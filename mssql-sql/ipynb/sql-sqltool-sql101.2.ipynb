{
 "cells": [
  {
   "cell_type": "markdown",
   "id": "intro",
   "metadata": {},
   "source": [
    "# Complete T-SQL 101: From Basics to Procedures\n",
    "\n",
    "Welcome to the comprehensive T-SQL learning guide! This notebook covers everything from basic commands to advanced procedures, joins, and functions.\n",
    "\n",
    "## Learning Path:\n",
    "1. **Basic Commands** (DDL, DML, TCL)\n",
    "2. **Data Types and Variables**\n",
    "3. **Joins and Relationships**\n",
    "4. **Functions and Expressions**\n",
    "5. **Stored Procedures**\n",
    "6. **Views and CTEs**\n",
    "7. **Advanced Topics**"
   ]
  },
  {
   "cell_type": "markdown",
   "id": "setup",
   "metadata": {},
   "source": [
    "## Setup: Create Learning Database\n",
    "\n",
    "Let's start by creating a comprehensive database with multiple related tables to practice joins and procedures."
   ]
  },
  {
   "cell_type": "code",
   "execution_count": null,
   "id": "setup-db",
   "metadata": {
    "vscode": {
     "languageId": "sql"
    }
   },
   "outputs": [],
   "source": [
    "-- Create learning database\n",
    "CREATE DATABASE CompanyDB;\n",
    "USE CompanyDB;"
   ]
  },
  {
   "cell_type": "markdown",
   "id": "tables-setup",
   "metadata": {},
   "source": [
    "## Create Related Tables for Learning Joins\n",
    "\n",
    "We'll create a company structure with Departments, Employees, and Projects to demonstrate relationships."
   ]
  },
  {
   "cell_type": "code",
   "execution_count": null,
   "id": "create-departments",
   "metadata": {
    "vscode": {
     "languageId": "sql"
    }
   },
   "outputs": [],
   "source": [
    "-- Create Departments table\n",
    "CREATE TABLE Departments (\n",
    "    DepartmentID INT IDENTITY(1,1) PRIMARY KEY,\n",
    "    DepartmentName NVARCHAR(50) NOT NULL,\n",
    "    Location NVARCHAR(50),\n",
    "    Budget DECIMAL(12,2)\n",
    ");"
   ]
  },
  {
   "cell_type": "code",
   "execution_count": null,
   "id": "create-employees",
   "metadata": {
    "vscode": {
     "languageId": "sql"
    }
   },
   "outputs": [],
   "source": [
    "-- Create Employees table\n",
    "CREATE TABLE Employees (\n",
    "    EmployeeID INT IDENTITY(1,1) PRIMARY KEY,\n",
    "    FirstName NVARCHAR(50) NOT NULL,\n",
    "    LastName NVARCHAR(50) NOT NULL,\n",
    "    Email NVARCHAR(100) UNIQUE,\n",
    "    DepartmentID INT,\n",
    "    Salary DECIMAL(10,2),\n",
    "    HireDate DATE DEFAULT GETDATE(),\n",
    "    ManagerID INT,\n",
    "    FOREIGN KEY (DepartmentID) REFERENCES Departments(DepartmentID),\n",
    "    FOREIGN KEY (ManagerID) REFERENCES Employees(EmployeeID)\n",
    ");"
   ]
  },
  {
   "cell_type": "code",
   "execution_count": null,
   "id": "create-projects",
   "metadata": {
    "vscode": {
     "languageId": "sql"
    }
   },
   "outputs": [],
   "source": [
    "-- Create Projects table\n",
    "CREATE TABLE Projects (\n",
    "    ProjectID INT IDENTITY(1,1) PRIMARY KEY,\n",
    "    ProjectName NVARCHAR(100) NOT NULL,\n",
    "    StartDate DATE,\n",
    "    EndDate DATE,\n",
    "    Budget DECIMAL(12,2),\n",
    "    DepartmentID INT,\n",
    "    FOREIGN KEY (DepartmentID) REFERENCES Departments(DepartmentID)\n",
    ");"
   ]
  },
  {
   "cell_type": "code",
   "execution_count": null,
   "id": "create-assignments",
   "metadata": {
    "vscode": {
     "languageId": "sql"
    }
   },
   "outputs": [],
   "source": [
    "-- Create Employee-Project assignments (many-to-many relationship)\n",
    "CREATE TABLE ProjectAssignments (\n",
    "    AssignmentID INT IDENTITY(1,1) PRIMARY KEY,\n",
    "    EmployeeID INT,\n",
    "    ProjectID INT,\n",
    "    Role NVARCHAR(50),\n",
    "    HoursAllocated INT,\n",
    "    FOREIGN KEY (EmployeeID) REFERENCES Employees(EmployeeID),\n",
    "    FOREIGN KEY (ProjectID) REFERENCES Projects(ProjectID)\n",
    ");"
   ]
  },
  {
   "cell_type": "markdown",
   "id": "insert-data",
   "metadata": {},
   "source": [
    "## Insert Sample Data\n",
    "\n",
    "Let's populate our tables with realistic data to practice with."
   ]
  },
  {
   "cell_type": "code",
   "execution_count": null,
   "id": "insert-departments",
   "metadata": {
    "vscode": {
     "languageId": "sql"
    }
   },
   "outputs": [],
   "source": [
    "-- Insert Departments\n",
    "INSERT INTO Departments (DepartmentName, Location, Budget)\n",
    "VALUES \n",
    "    ('IT', 'Building A', 500000.00),\n",
    "    ('HR', 'Building B', 200000.00),\n",
    "    ('Finance', 'Building C', 300000.00),\n",
    "    ('Marketing', 'Building A', 250000.00),\n",
    "    ('Operations', 'Building D', 400000.00);"
   ]
  },
  {
   "cell_type": "code",
   "execution_count": null,
   "id": "insert-employees",
   "metadata": {
    "vscode": {
     "languageId": "sql"
    }
   },
   "outputs": [],
   "source": [
    "-- Insert Employees\n",
    "INSERT INTO Employees (FirstName, LastName, Email, DepartmentID, Salary, HireDate, ManagerID)\n",
    "VALUES \n",
    "    ('John', 'Smith', 'john.smith@company.com', 1, 75000, '2020-01-15', NULL),\n",
    "    ('Jane', 'Doe', 'jane.doe@company.com', 2, 65000, '2020-02-01', NULL),\n",
    "    ('Mike', 'Johnson', 'mike.johnson@company.com', 1, 60000, '2021-03-10', 1),\n",
    "    ('Sarah', 'Wilson', 'sarah.wilson@company.com', 3, 70000, '2021-05-20', NULL),\n",
    "    ('Tom', 'Brown', 'tom.brown@company.com', 1, 55000, '2022-01-08', 1),\n",
    "    ('Lisa', 'Davis', 'lisa.davis@company.com', 4, 58000, '2022-03-15', NULL),\n",
    "    ('David', 'Miller', 'david.miller@company.com', 2, 52000, '2022-06-01', 2),\n",
    "    ('Emma', 'Garcia', 'emma.garcia@company.com', 5, 62000, '2023-01-10', NULL);"
   ]
  }
 ],
 "metadata": {
  "kernelspec": {
   "display_name": "SQL",
   "language": "sql",
   "name": "sql"
  },
  "language_info": {
   "file_extension": ".sql",
   "mimetype": "text/x-sql",
   "name": "sql",
   "version": "1.0"
  }
 },
 "nbformat": 4,
 "nbformat_minor": 5
}
