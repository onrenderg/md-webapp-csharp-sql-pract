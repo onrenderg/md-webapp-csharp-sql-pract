{
 "cells": [
  {
   "cell_type": "code",
   "execution_count": null,
   "id": "14e8a07c",
   "metadata": {
    "vscode": {
     "languageId": "sql"
    }
   },
   "outputs": [],
   "source": [
    "SELECT name \n",
    "FROM sys.databases;\n"
   ]
  },
  {
   "cell_type": "code",
   "execution_count": null,
   "id": "262d8c38",
   "metadata": {
    "vscode": {
     "languageId": "sql"
    }
   },
   "outputs": [],
   "source": []
  },
  {
   "cell_type": "code",
   "execution_count": null,
   "id": "f678ce23",
   "metadata": {
    "vscode": {
     "languageId": "sql"
    }
   },
   "outputs": [],
   "source": [
    "\n"
   ]
  }
 ],
 "metadata": {
  "language_info": {
   "name": "python"
  }
 },
 "nbformat": 4,
 "nbformat_minor": 5
}
